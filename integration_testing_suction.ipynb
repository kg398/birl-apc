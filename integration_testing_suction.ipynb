{
 "cells": [
  {
   "cell_type": "code",
   "execution_count": 1,
   "metadata": {
    "collapsed": true
   },
   "outputs": [],
   "source": [
    "#IMPORT CONSTANTS\n",
    "\n",
    "import numpy as np\n",
    "from matplotlib import pyplot as plt\n",
    "import cv2\n",
    "%matplotlib inline\n",
    "import copy\n",
    "\n",
    "\n",
    "import vision_tools as vt\n",
    "\n",
    "import kinect_vision as kv\n",
    "from kinect_vision import PATH_TO_KINECT_IMAGES_DIR"
   ]
  },
  {
   "cell_type": "code",
   "execution_count": 2,
   "metadata": {
    "collapsed": true
   },
   "outputs": [],
   "source": [
    "\n",
    "import pandas as pd\n",
    "def create_object_df():\n",
    "    obj_df = pd.DataFrame(columns = ['name', \n",
    "                                     'area', \n",
    "                                     'aspect',###### \n",
    "                                     'fill', ######\n",
    "                                     'circularness',##### \n",
    "                                     'number of children',#####\n",
    "                                     'rgb_area',\n",
    "                                     'rgb_aspect',#####\n",
    "                                     'rgb_fill',#####\n",
    "                                     'rgb_circularness',#####\n",
    "                                     'rgb_average',#####\n",
    "                                     'median_height',#####\n",
    "                                     'mean_height' #####\n",
    "                                    ])\n",
    "    return obj_df\n",
    "\n",
    "def prepare_object_dict(tableObject, obj_df):\n",
    "    copy.copy(tableObject)\n",
    "    object_dict = tableObject.return_object_attributes()\n",
    "    \n",
    "    \n",
    "    box = tableObject.rgb_box\n",
    "    first_line = np.sqrt(sum((box[1]-box[0])**2))\n",
    "    second_line = np.sqrt(sum((box[2]-box[1])**2))\n",
    "    rgb_aspect = first_line/second_line\n",
    "    if rgb_aspect > 1:\n",
    "        rgb_aspect = second_line/first_line\n",
    "    object_dict['rgb_aspect'] = rgb_aspect\n",
    "    \n",
    "    rgb_boundBoxArea = cv2.contourArea(tableObject.rgb_box)\n",
    "    rgb_fill = tableObject.rgb_area/rgb_boundBoxArea\n",
    "    object_dict['rgb_fill'] = rgb_fill\n",
    "    \n",
    "    rgb_boundCircleArea = np.pi*(tableObject.rgb_radius)**2\n",
    "    rgb_circularness = tableObject.rgb_area/rgb_boundCircleArea\n",
    "    object_dict['rgb_circularness'] = rgb_circularness\n",
    "    \n",
    "    try:\n",
    "        # FILL\n",
    "        boundBoxArea = cv2.contourArea(tableObject.box)\n",
    "        fill = tableObject.area/boundBoxArea\n",
    "        \n",
    "        # ASPECT\n",
    "        box = tableObject.box\n",
    "        first_line = np.sqrt(sum((box[1]-box[0])**2))\n",
    "        second_line = np.sqrt(sum((box[2]-box[1])**2))\n",
    "        aspect = first_line/second_line\n",
    "        if aspect > 1:\n",
    "            aspect = second_line/first_line\n",
    "            \n",
    "        # CIRCULARNESS\n",
    "        boundCircleArea = np.pi*(tableObject.radius)**2\n",
    "        circularness = tableObject.area/boundCircleArea\n",
    "        \n",
    "        # NUMBER OF CHILDREN\n",
    "        object_dict['number of children'] = len(tableObject.children)\n",
    "        \n",
    "        # HEIGHTS\n",
    "        median_height = tableObject.height[0]\n",
    "        mean_height = tableObject.height[1]\n",
    "        \n",
    "    except:\n",
    "        aspect = rgb_aspect\n",
    "        circularness = rgb_circularness\n",
    "        fill = rgb_fill\n",
    "        median_height = 0\n",
    "        mean_height = 0\n",
    "        object_dict['number of children'] = 0\n",
    "        \n",
    "    object_dict['aspect'] = aspect\n",
    "    object_dict['circularness'] = circularness\n",
    "    object_dict['fill'] = fill\n",
    "    object_dict['median_height'] = median_height\n",
    "    object_dict['mean_height'] = mean_height\n",
    "    \n",
    "    \n",
    "    for key in object_dict.keys():\n",
    "        if key not in obj_df.head():\n",
    "            del object_dict[key]\n",
    "    return object_dict\n",
    "\n",
    "\n",
    "    \n",
    "def create_csv(filename, df):\n",
    "    if len(filename)>4:\n",
    "        if filename[-4:]!=\".csv\":\n",
    "            filename = filename + \".csv\"\n",
    "    header = df.keys()\n",
    "    df.to_csv(filename, columns = header)\n",
    "    print \"done\"\n",
    "\n",
    "def add_to_csv(filename, df):\n",
    "    with open(filename, 'a') as f:\n",
    "        df.to_csv(f, header=False)"
   ]
  },
  {
   "cell_type": "code",
   "execution_count": 3,
   "metadata": {
    "collapsed": true
   },
   "outputs": [],
   "source": [
    "#directory = kv.run_kinect_server()\n",
    "directory = PATH_TO_KINECT_IMAGES_DIR"
   ]
  },
  {
   "cell_type": "code",
   "execution_count": 15,
   "metadata": {},
   "outputs": [
    {
     "name": "stdout",
     "output_type": "stream",
     "text": [
      "{'radius': [10, 16], 'thresh': [85, 220]}\n",
      "9\n",
      "All Calibration points found\n"
     ]
    },
    {
     "data": {
      "image/png": "[encoded data removed]",
      "text/plain": [
       "<matplotlib.figure.Figure at 0x7f649b687c50>"
      ]
     },
     "metadata": {},
     "output_type": "display_data"
    },
    {
     "name": "stdout",
     "output_type": "stream",
     "text": [
      "Continue?: yes\n",
      "{'radius': [5, 8], 'thresh': [85, 220]}\n",
      "22\n",
      "All Calibration points found\n"
     ]
    },
    {
     "data": {
      "image/png": "[encoded data removed]",
      "text/plain": [
       "<matplotlib.figure.Figure at 0x7f649ce6bb50>"
      ]
     },
     "metadata": {},
     "output_type": "display_data"
    },
    {
     "name": "stdout",
     "output_type": "stream",
     "text": [
      "Continue?: yes\n",
      "[1]\n",
      "[3]\n",
      "[5]\n",
      "Depth Done\n",
      "[1, 2, 3, 4, 5, 6, 7]\n",
      "[9]\n",
      "[12, 13, 14]\n"
     ]
    }
   ],
   "source": [
    "test_num2 = str(1)\n",
    "test_num = str(1)\n",
    "\n",
    "test = kv.load_npz_as_array(\"im_array_\"+test_num2, directory)\n",
    "cali = kv.load_npz_as_array(\"im_array_cal\"+test_num, directory)\n",
    "empt = kv.load_npz_as_array(\"im_array_empty\"+test_num, directory)\n",
    "\n",
    "test_all = kv.prepare_im_array(test)\n",
    "empt_all = kv.prepare_im_array(empt)\n",
    "cali_all = kv.prepare_im_array(cali)\n",
    "\n",
    "\n",
    "from image_processing import run_image_processing\n",
    "\n",
    "from image_processing import run_calibration, run_calibration_rgb\n",
    "from image_processing import run_image_processing_v2_depth, run_image_processing_v2_rgb\n",
    "\n",
    "depth_cali = run_calibration(empt_all, cali_all)\n",
    "rgb_cali = run_calibration_rgb(empt_all, cali_all, depth_cali)\n",
    "\n",
    "\n",
    "\n",
    "sorted_family, normclean = run_image_processing_v2_depth(test_all, depth_cali, show=False)\n",
    "rgbnormclean, rgb_family, test_rgbx_img = run_image_processing_v2_rgb(test_all, rgb_cali, depth_cali, show=False)\n",
    "\n",
    "\n",
    "\n",
    "#normclean, sorted_family, rgbnormclean, rgb_family, test_rgbx_img=run_image_processing(test, empt, cali, adjust=False, show=False)"
   ]
  },
  {
   "cell_type": "code",
   "execution_count": 16,
   "metadata": {},
   "outputs": [
    {
     "data": {
      "text/plain": [
       "array([[ 0.04336108,  0.0465071 ,  0.0424362 , ...,  0.01870749,\n",
       "         0.01411439,  0.        ],\n",
       "       [ 0.05318839,  0.04415174,  0.05178284, ...,  0.0273421 ,\n",
       "         0.02588798,  0.        ],\n",
       "       [ 0.01723931,  0.02027475,  0.04547867, ...,  0.00147727,\n",
       "         0.01027487,  0.        ],\n",
       "       ..., \n",
       "       [ 0.        ,  0.        ,  0.01598205, ...,  0.        ,\n",
       "         0.        ,  0.        ],\n",
       "       [ 0.01541702,  0.01686411,  0.03170382, ...,  0.        ,\n",
       "         0.        ,  0.        ],\n",
       "       [ 0.00992076,  0.01108151,  0.01569442, ...,  0.        ,\n",
       "         0.        ,  0.        ]], dtype=float32)"
      ]
     },
     "execution_count": 16,
     "metadata": {},
     "output_type": "execute_result"
    }
   ],
   "source": [
    "normclean"
   ]
  },
  {
   "cell_type": "code",
   "execution_count": null,
   "metadata": {
    "collapsed": true
   },
   "outputs": [],
   "source": []
  },
  {
   "cell_type": "code",
   "execution_count": 17,
   "metadata": {},
   "outputs": [],
   "source": [
    "from vision_tools import normclean2cv2\n",
    "depth_normclean = normclean2cv2(normclean)\n",
    "rgb_normclean = normclean2cv2(rgbnormclean)\n",
    "\n",
    "test_rgb_img = vt.convert2rgb(test_rgbx_img[0])\n",
    "\n",
    "b,g,r,x = cv2.split(test_rgbx_img)\n",
    "test_rgb_img = cv2.merge([r,g,b])\n"
   ]
  },
  {
   "cell_type": "code",
   "execution_count": 22,
   "metadata": {},
   "outputs": [
    {
     "name": "stdout",
     "output_type": "stream",
     "text": [
      "1\n",
      "RGB data not considered\n",
      "Depth data not implemented\n",
      "3\n",
      "RGB data not considered\n",
      "Depth data not implemented\n",
      "5\n",
      "RGB data not considered\n",
      "Depth data not implemented\n",
      "Depth data not implemented\n",
      "item\n",
      "Depth data not implemented\n",
      "item\n",
      "Depth data not implemented\n",
      "item\n",
      "Depth data not implemented\n",
      "item\n"
     ]
    }
   ],
   "source": [
    "from tableObject_class import find_object\n",
    "depth_list = find_object(depth_normclean, family=sorted_family, label=False)\n",
    "obj_list = find_object(test_rgb_img, rgb_family = rgb_family, label=False)"
   ]
  },
  {
   "cell_type": "code",
   "execution_count": 81,
   "metadata": {},
   "outputs": [
    {
     "name": "stdout",
     "output_type": "stream",
     "text": [
      "4 : No depth profile found\n"
     ]
    }
   ],
   "source": [
    "for item in obj_list.keys():\n",
    "    contour = obj_list[item].item_contour[0]\n",
    "    mask = vt.create_contour_mask([contour], depth_normclean)\n",
    "    final = 0\n",
    "    most_likely_depth = '0'\n",
    "    \n",
    "    for depth_item in depth_list.keys():\n",
    "        \n",
    "        depth_contour = depth_list[depth_item].contour[0]\n",
    "        total = len(depth_contour)\n",
    "        inside = 0\n",
    "        \n",
    "        for point in depth_contour:\n",
    "            check = cv2.pointPolygonTest((contour), \n",
    "                                                   (point[0][0],point[0][1]), \n",
    "                                                   measureDist=True)\n",
    "            if check>0:\n",
    "                inside = inside+1\n",
    "                \n",
    "        frac = float(inside)/total\n",
    "        \n",
    "        if frac>final:\n",
    "            final=frac\n",
    "            most_likely_depth = depth_item\n",
    "    \n",
    "    if most_likely_depth == '0':\n",
    "        print item, \": No depth profile found\"\n",
    "        \n",
    "    else:\n",
    "        mask2 = vt.create_contour_mask([depth_list[most_likely_depth].contour[0]], depth_normclean)\n",
    "        mask = mask-mask2\n",
    "        obj_list[item].add_depth(depth_list[most_likely_depth])\n",
    "        \n",
    "    #plt.figure()\n",
    "    #plt.imshow(mask)\n",
    "    #plt.show()\n",
    "    \n",
    "    \n",
    "        \n",
    "        "
   ]
  },
  {
   "cell_type": "code",
   "execution_count": 84,
   "metadata": {},
   "outputs": [
    {
     "data": {
      "text/plain": [
       "0.082129553"
      ]
     },
     "execution_count": 84,
     "metadata": {},
     "output_type": "execute_result"
    }
   ],
   "source": [
    "obj_list['1'].height[0]"
   ]
  },
  {
   "cell_type": "code",
   "execution_count": 89,
   "metadata": {},
   "outputs": [
    {
     "data": {
      "text/plain": [
       "(147.0933074951172, 36.43779754638672)"
      ]
     },
     "execution_count": 89,
     "metadata": {},
     "output_type": "execute_result"
    }
   ],
   "source": [
    "obj_list['4'].rgb_centre"
   ]
  },
  {
   "cell_type": "code",
   "execution_count": null,
   "metadata": {
    "collapsed": true
   },
   "outputs": [],
   "source": []
  },
  {
   "cell_type": "code",
   "execution_count": null,
   "metadata": {
    "collapsed": true
   },
   "outputs": [],
   "source": []
  },
  {
   "cell_type": "code",
   "execution_count": 7,
   "metadata": {},
   "outputs": [
    {
     "name": "stdout",
     "output_type": "stream",
     "text": [
      "1\n",
      "RGB data considered\n",
      "Depth data implemented\n",
      "depth\n"
     ]
    },
    {
     "data": {
      "image/png": "[encoded data removed]",
      "text/plain": [
       "<matplotlib.figure.Figure at 0x7f82ea764e50>"
      ]
     },
     "metadata": {},
     "output_type": "display_data"
    },
    {
     "name": "stdout",
     "output_type": "stream",
     "text": [
      "Name of object?: tape measure\n",
      "3\n",
      "RGB data considered\n",
      "Depth data implemented\n",
      "depth\n"
     ]
    },
    {
     "data": {
      "image/png": "[encoded data removed]",
      "text/plain": [
       "<matplotlib.figure.Figure at 0x7f82e9ea8c90>"
      ]
     },
     "metadata": {},
     "output_type": "display_data"
    },
    {
     "name": "stdout",
     "output_type": "stream",
     "text": [
      "Name of object?: eraser\n",
      "5\n",
      "RGB data considered\n",
      "Depth data implemented\n",
      "depth\n"
     ]
    },
    {
     "data": {
      "image/png": "[encoded data removed]",
      "text/plain": [
       "<matplotlib.figure.Figure at 0x7f82e9db3990>"
      ]
     },
     "metadata": {},
     "output_type": "display_data"
    },
    {
     "name": "stdout",
     "output_type": "stream",
     "text": [
      "Name of object?: ball\n",
      "Depth data implemented\n",
      "item\n",
      "item\n"
     ]
    },
    {
     "data": {
      "image/png": "[encoded data removed]",
      "text/plain": [
       "<matplotlib.figure.Figure at 0x7f82e9cf1390>"
      ]
     },
     "metadata": {},
     "output_type": "display_data"
    },
    {
     "name": "stdout",
     "output_type": "stream",
     "text": [
      "Name of object?: eraser\n",
      "Depth data implemented\n",
      "item\n",
      "item\n"
     ]
    },
    {
     "data": {
      "image/png": "[encoded data removed]",
      "text/plain": [
       "<matplotlib.figure.Figure at 0x7f82e9c88e10>"
      ]
     },
     "metadata": {},
     "output_type": "display_data"
    },
    {
     "name": "stdout",
     "output_type": "stream",
     "text": [
      "Name of object?: ball\n",
      "Depth data implemented\n",
      "item\n",
      "item\n"
     ]
    },
    {
     "data": {
      "image/png": "[encoded data removed]",
      "text/plain": [
       "<matplotlib.figure.Figure at 0x7f82e9bd1e90>"
      ]
     },
     "metadata": {},
     "output_type": "display_data"
    },
    {
     "name": "stdout",
     "output_type": "stream",
     "text": [
      "Name of object?: tape measure\n",
      "Depth data implemented\n",
      "item\n",
      "item\n"
     ]
    },
    {
     "data": {
      "image/png": "[encoded data removed]",
      "text/plain": [
       "<matplotlib.figure.Figure at 0x7f82e9af6fd0>"
      ]
     },
     "metadata": {},
     "output_type": "display_data"
    },
    {
     "name": "stdout",
     "output_type": "stream",
     "text": [
      "Name of object?: cd\n"
     ]
    }
   ],
   "source": [
    "\n",
    "from tableObject_class import TableObject, match_rgb_with_depth\n",
    "object_list = match_rgb_with_depth(sorted_family, rgb_family, depth_normclean, test_rgb_img, label=True)"
   ]
  },
  {
   "cell_type": "code",
   "execution_count": 29,
   "metadata": {
    "collapsed": true
   },
   "outputs": [],
   "source": [
    "ball_object = object_list['ball']\n",
    "cd_object = object_list['cd']\n",
    "tape_object = object_list['tape measure']"
   ]
  },
  {
   "cell_type": "code",
   "execution_count": 30,
   "metadata": {},
   "outputs": [
    {
     "data": {
      "text/plain": [
       "{'children': [],\n",
       " 'generation': 0,\n",
       " 'height': (0, 0, 0, 0),\n",
       " 'item_contour': [array([[[140,   9]],\n",
       "  \n",
       "         [[139,  10]],\n",
       "  \n",
       "         [[137,  10]],\n",
       "  \n",
       "         [[136,  11]],\n",
       "  \n",
       "         [[134,  11]],\n",
       "  \n",
       "         [[133,  12]],\n",
       "  \n",
       "         [[132,  12]],\n",
       "  \n",
       "         [[130,  14]],\n",
       "  \n",
       "         [[129,  14]],\n",
       "  \n",
       "         [[124,  19]],\n",
       "  \n",
       "         [[124,  20]],\n",
       "  \n",
       "         [[122,  22]],\n",
       "  \n",
       "         [[122,  23]],\n",
       "  \n",
       "         [[121,  24]],\n",
       "  \n",
       "         [[121,  26]],\n",
       "  \n",
       "         [[120,  27]],\n",
       "  \n",
       "         [[120,  30]],\n",
       "  \n",
       "         [[119,  31]],\n",
       "  \n",
       "         [[119,  41]],\n",
       "  \n",
       "         [[120,  42]],\n",
       "  \n",
       "         [[120,  46]],\n",
       "  \n",
       "         [[121,  47]],\n",
       "  \n",
       "         [[121,  49]],\n",
       "  \n",
       "         [[122,  50]],\n",
       "  \n",
       "         [[122,  51]],\n",
       "  \n",
       "         [[124,  53]],\n",
       "  \n",
       "         [[124,  54]],\n",
       "  \n",
       "         [[129,  59]],\n",
       "  \n",
       "         [[130,  59]],\n",
       "  \n",
       "         [[131,  60]],\n",
       "  \n",
       "         [[132,  60]],\n",
       "  \n",
       "         [[133,  61]],\n",
       "  \n",
       "         [[135,  61]],\n",
       "  \n",
       "         [[136,  62]],\n",
       "  \n",
       "         [[138,  62]],\n",
       "  \n",
       "         [[139,  63]],\n",
       "  \n",
       "         [[152,  63]],\n",
       "  \n",
       "         [[153,  62]],\n",
       "  \n",
       "         [[156,  62]],\n",
       "  \n",
       "         [[157,  61]],\n",
       "  \n",
       "         [[159,  61]],\n",
       "  \n",
       "         [[160,  60]],\n",
       "  \n",
       "         [[161,  60]],\n",
       "  \n",
       "         [[162,  59]],\n",
       "  \n",
       "         [[163,  59]],\n",
       "  \n",
       "         [[165,  57]],\n",
       "  \n",
       "         [[166,  57]],\n",
       "  \n",
       "         [[167,  56]],\n",
       "  \n",
       "         [[168,  56]],\n",
       "  \n",
       "         [[168,  54]],\n",
       "  \n",
       "         [[170,  52]],\n",
       "  \n",
       "         [[170,  51]],\n",
       "  \n",
       "         [[171,  50]],\n",
       "  \n",
       "         [[171,  48]],\n",
       "  \n",
       "         [[172,  47]],\n",
       "  \n",
       "         [[172,  46]],\n",
       "  \n",
       "         [[173,  45]],\n",
       "  \n",
       "         [[173,  43]],\n",
       "  \n",
       "         [[174,  42]],\n",
       "  \n",
       "         [[174,  35]],\n",
       "  \n",
       "         [[173,  34]],\n",
       "  \n",
       "         [[173,  27]],\n",
       "  \n",
       "         [[172,  26]],\n",
       "  \n",
       "         [[172,  23]],\n",
       "  \n",
       "         [[171,  22]],\n",
       "  \n",
       "         [[171,  20]],\n",
       "  \n",
       "         [[169,  18]],\n",
       "  \n",
       "         [[168,  18]],\n",
       "  \n",
       "         [[164,  14]],\n",
       "  \n",
       "         [[163,  14]],\n",
       "  \n",
       "         [[161,  12]],\n",
       "  \n",
       "         [[160,  12]],\n",
       "  \n",
       "         [[159,  11]],\n",
       "  \n",
       "         [[157,  11]],\n",
       "  \n",
       "         [[156,  10]],\n",
       "  \n",
       "         [[153,  10]],\n",
       "  \n",
       "         [[152,   9]]], dtype=int32)],\n",
       " 'name': 'cd',\n",
       " 'rgb_area': 2423.0,\n",
       " 'rgb_aspect': 0.98181818181818181,\n",
       " 'rgb_average': [199.92814371257484, 207.52734530938125, 207.45349301397206],\n",
       " 'rgb_box': array([[119,  63],\n",
       "        [119,   9],\n",
       "        [174,   9],\n",
       "        [174,  63]]),\n",
       " 'rgb_centre': (147.0933074951172, 36.43779754638672),\n",
       " 'rgb_circularness': 0.9162777881157036,\n",
       " 'rgb_fill': 0.8158249158249158,\n",
       " 'rgb_radius': 29.01270294189453}"
      ]
     },
     "execution_count": 30,
     "metadata": {},
     "output_type": "execute_result"
    }
   ],
   "source": [
    "cd_object.return_object_attributes()"
   ]
  },
  {
   "cell_type": "code",
   "execution_count": 14,
   "metadata": {
    "collapsed": true
   },
   "outputs": [],
   "source": [
    "def find_closest_contour(point, family):\n",
    "    closest_contour=family[0]\n",
    "    closest_contour['distance'] = cv2.pointPolygonTest((family[0]['contour'][0]), \n",
    "                                                   (point[0],point[1]), \n",
    "                                                   measureDist=True)\n",
    "    print len(family)\n",
    "    for i in range(len(family)):\n",
    "        distance = cv2.pointPolygonTest((family[i]['contour'][0]), \n",
    "                                        (point[0],point[1]), \n",
    "                                        measureDist=True)\n",
    "        print distance, closest_contour['distance']\n",
    "        if abs(distance)<abs(closest_contour['distance']):\n",
    "            closest_contour = family[i]\n",
    "            closest_contour['distance']=distance\n",
    "    return closest_contour\n",
    "\n",
    "def find_point_generation(point, family):\n",
    "    closest_contour = find_closest_contour(point, family)\n",
    "    print \"CONTOUR_ID: \", closest_contour['id']\n",
    "    distance = cv2.pointPolygonTest(closest_cnt['contour'][0], \n",
    "                                    (point[0],point[1]), measureDist=True)\n",
    "    if distance < 0:\n",
    "        print \"OUTSIDE NEAREST CONTOUR\"\n",
    "        child_count = 0\n",
    "        for member in family:\n",
    "            if closest_contour['id'] in member['children']:\n",
    "                print \"INSIDE PARENT\"\n",
    "                parent_dist = cv2.pointPolygonTest(member['contour'][0],\n",
    "                                                  (point[0], point[1]), measureDist=True)\n",
    "                if parent_dist<0:\n",
    "                    print \"SOMETHING WRONG HAS HAPPENED\"\n",
    "                else:\n",
    "                    point_generation = member['generation']\n",
    "                    child_count = child_count + 1\n",
    "        if child_count == 0:\n",
    "            point_generation = closest_contour['generation']-1\n",
    "    else:\n",
    "        point_generation = closest_contour['generation']\n",
    "    \n",
    "    return point_generation\n",
    "\n",
    "from scipy.spatial.distance import cdist\n",
    "def closest_node(node, contour):\n",
    "    nodes = []\n",
    "    for points in contour:\n",
    "        nodes.append(points[0])\n",
    "    return nodes[cdist([node], nodes).argmin()], cdist([node], nodes).argmin()\n",
    "\n",
    "def pnt2line(pnt, start, end):\n",
    "    line_vec = end-start\n",
    "    pnt_vec = pnt-start\n",
    "    line_len = np.sqrt(line_vec[0]**2+line_vec[1]**2)\n",
    "    #print line_vec, line_len\n",
    "    line_unitvec = (line_vec)/line_len\n",
    "    pnt_vec_scaled = pnt_vec*1.0/line_len\n",
    "    t = np.dot(line_unitvec, pnt_vec_scaled)    \n",
    "    if t < 0.0:\n",
    "        t = 0.0\n",
    "    elif t > 1.0:\n",
    "        t = 1.0\n",
    "    nearest = line_vec*t\n",
    "    dist = np.sqrt(sum((pnt_vec-nearest)**2))\n",
    "    nearest = start + nearest\n",
    "    return (dist, nearest)"
   ]
  },
  {
   "cell_type": "code",
   "execution_count": 20,
   "metadata": {},
   "outputs": [
    {
     "name": "stdout",
     "output_type": "stream",
     "text": [
      "\n"
     ]
    }
   ],
   "source": [
    "#consider ball_object\n",
    "\n",
    "def find_grasping_points(table_object, family):\n",
    "    closest_contour = find_closest_contour(table_object.centre, family)\n",
    "    \n",
    "    first_node1, node1_id = closest_node(table_object.centre, closest_contour['contour'][0])\n",
    "    \n",
    "    first_neighbours = closest_contour['contour'][0][node1_id-1:node1_id+2:2]\n",
    "    \n",
    "    first_node2, node2_id = closest_node(table_object.centre, first_neighbours)\n",
    "    \n",
    "    print \"First Node1: \", first_node1\n",
    "    print \"First Node2: \", first_node2\n",
    "    dist, first_node = pnt2line(table_object.centre, first_node1, first_node2)\n",
    "    print dist, first_node\n",
    "    \n",
    "    return first_node"
   ]
  },
  {
   "cell_type": "code",
   "execution_count": 21,
   "metadata": {},
   "outputs": [
    {
     "name": "stdout",
     "output_type": "stream",
     "text": [
      "2\n",
      "11.5 11.5\n",
      "5.65685424949 11.5\n",
      "First Node1:  [101  67]\n",
      "First Node2:  [102  66]\n",
      "5.65685424949 [ 101.5   66.5]\n"
     ]
    }
   ],
   "source": [
    "first_node = find_grasping_points(ball_object, ball_object.nuclear)\n"
   ]
  },
  {
   "cell_type": "code",
   "execution_count": null,
   "metadata": {
    "collapsed": true
   },
   "outputs": [],
   "source": [
    "ball_object.id"
   ]
  },
  {
   "cell_type": "code",
   "execution_count": null,
   "metadata": {
    "collapsed": true
   },
   "outputs": [],
   "source": [
    "a = [(0,0), (1,1), (3,3)]\n",
    "\n",
    "b = [(0.1, 0), (3, 3.2), (1.5, 1), (1.1, 1.1)]\n",
    "\n",
    "def join_coordinates(a,b):\n",
    "    max_items = max(len(a), len(b))\n",
    "    \n",
    "    for items in len(range(max_items)):\n",
    "        "
   ]
  },
  {
   "cell_type": "code",
   "execution_count": null,
   "metadata": {
    "collapsed": true
   },
   "outputs": [],
   "source": [
    "closest_cnt = family[0]\n",
    "closest_cnt['distance'] = cv2.pointPolygonTest((family[0]['contour'][0]), \n",
    "                                               (cv2_current_centre[0],cv2_current_centre[1]), \n",
    "                                               measureDist=True)\n",
    "#centre_generation = closest_cnt['generation'] + int(distance/abs(distance))\n",
    "\n",
    "for i in accepted:\n",
    "    distance = cv2.pointPolygonTest((family[i]['contour'][0]), (object_centres[0][1], object_centres[0][0]), measureDist=True)\n",
    "    print \"Object Centre to Contour \", i, \" Distance: \", distance\n",
    "    if abs(distance)<abs(closest_cnt['distance']):\n",
    "        closest_cnt = family[i]\n",
    "        closest_cnt['distance'] = distance\n",
    "        #centre_generation = closest_cnt['generation'] + int(distance/abs(distance))\n",
    "\n",
    "#dist_ref = 200\n",
    "#nearest_point = [0,0]\n",
    "#for i in possible_pairs:\n",
    "#    dist, nearest = pnt2line(first_node, i[0], i[1])\n",
    " #   if dist_ref>dist:\n",
    " #       dist_ref = dist\n",
    " ##       print dist\n",
    " #       second_node = [int(p) for p in nearest]#\n",
    "#print second_node\n",
    "        \n",
    "current_cnt = []\n",
    "for points in closest_cnt['contour'][0]:\n",
    "    current_cnt.append(points[0])\n",
    "first_node1 = closest_node(cv2_current_centre, current_cnt)\n",
    "\n",
    "for qq, pp in enumerate(closest_cnt['contour'][0]):\n",
    "    #print pp[0]\n",
    "    if np.all(pp[0]==first_node1):\n",
    "        if pp[0][0]==first_node1[0] and pp[0][1]==first_node1[1]:\n",
    "            first_node1_location =qq\n",
    "\n",
    "first_neighbours=closest_cnt['contour'][0][first_node1_location-1:first_node1_location+2:2]\n",
    "#print [abs(g[0][0]**2 + g[0][1]**2) for g in first_neighbours]\n",
    "print first_neighbours, first_node1\n",
    "first_node2 = first_neighbours[np.argmin([abs((g[0][0]-cv2_current_centre[0])**2 \n",
    "                                                  + (g[0][1]-cv2_current_centre[1])**2) for g in first_neighbours])]\n",
    "first_node2 = first_node2[0]\n",
    "\n",
    "print \"First Node1: \", first_node1\n",
    "print \"First Node2: \", first_node2\n",
    "dist, first_node = pnt2line(cv2_current_centre, first_node1, first_node2)\n",
    "print dist, first_node\n",
    "\n",
    "#Find first node:\n",
    "current_cnt = []\n",
    "#for points in closest_cnt['contour'][0]:\n",
    "#    current_cnt.append(points[0])\n",
    "#first_node = closest_node(cv2_current_centre, current_cnt)\n",
    "print \"Object Centre: \", cv2_current_centre\n",
    "print \"First Node: \", first_node\n",
    "\n",
    "\n",
    "#current_line = \n",
    "#print \"current\", current_line\n",
    "\n",
    "vect = first_node2-first_node1\n",
    "print \"Vector: \", vect\n",
    "gradient = float(vect[1])/vect[0]\n",
    "print gradient\n",
    "if gradient == 0:\n",
    "    current_line = [0.0, 1.0]\n",
    "else:\n",
    "    perp_grad = -1/gradient\n",
    "    current_line = [1.0, perp_grad]\n",
    "\n",
    "print \"Perpendicular Line\",current_line\n",
    "#current_line = second_node-first_node\n",
    "possible_pairs = []\n",
    "for x in accepted:\n",
    "    sec_cnt = []\n",
    "    for points in family[x]['contour'][0]:\n",
    "        sec_cnt.append(points[0])\n",
    "    #print sec_cnt\n",
    "    for i,j in enumerate(sec_cnt):\n",
    "        #print j\n",
    "        if i>0:\n",
    "            check1 = sec_cnt[i-1] - first_node\n",
    "            check2 = sec_cnt[i] - first_node\n",
    "            sign1 = check1[0]*current_line[1] - check1[1]*current_line[0]\n",
    "            sign2 = check2[0]*current_line[1] - check2[1]*current_line[0]\n",
    "            #print sign1, sign2\n",
    "            #print (sign1/abs(sign1), sign2/abs(sign2))\n",
    "            \n",
    "            if sign1*sign2 <0:\n",
    "                possible_pairs.append([sec_cnt[i-1], sec_cnt[i]])\n",
    "                \n",
    "#print \"Possible Pairs: \",possible_pairs\n",
    "#print \"Length: \", len(possible_pairs)\n",
    "\n",
    "for pair_num,pair in enumerate(list(reversed(possible_pairs))):\n",
    "    #print \"Checking current pair: \", pair_num, pair\n",
    "    #print \"Against: \", first_node1, \" and \", first_node2\n",
    "    if np.array_equal(first_node1, pair[0]) or np.array_equal(first_node1, pair[1]):\n",
    "        if np.array_equal(first_node2, pair[0]) or np.array_equal(first_node2, pair[1]):\n",
    "            #print possible_pairs\n",
    "            print pair\n",
    "            possible_pairs.pop(-(pair_num+1))\n",
    "                \n",
    "print \"possible second_pair: \", possible_pairs  \n",
    "print len(possible_pairs)\n",
    "\n",
    "possible_second_node=[]\n",
    "for i in possible_pairs:\n",
    "    dist, nearest = pnt2line(first_node, i[0], i[1])\n",
    "    possible_second_node.append([p for p in nearest])\n",
    "#print \"Possible Second Nodes: \", possible_second_node\n",
    "#print  \"Length possible second nodes: \", len(possible_second_node)\n",
    "actual_grasp_centre = []\n",
    "\n",
    "remove_snode = []\n",
    "for num_snode, snode in enumerate(possible_second_node):\n",
    "    node_separation = snode - first_node\n",
    "    grasp_centre = first_node + node_separation/2\n",
    "    print \"...............................\", snode\n",
    "    print \"GRASP CENTRE: \",grasp_centre\n",
    "            \n",
    "    grasp_node1 = first_node - node_separation*0.02\n",
    "    grasp_node2 = snode + node_separation * 0.02\n",
    "    grasp_gen = {}\n",
    "    for gnum, grasp_point in enumerate([grasp_node1, grasp_centre, grasp_node2]):\n",
    "        grasp_gen[gnum]=find_point_generation(grasp_point, family)\n",
    "        print gnum, \"+++++++++++++++\",grasp_gen\n",
    "        print grasp_point\n",
    "    print \"Grasp generations: \", grasp_gen\n",
    "    print \"\"\n",
    "    if grasp_gen[0]!=grasp_gen[2]:\n",
    "        remove_snode.append(num_snode)\n",
    "        print \"::::: Grasping points at different levels\"\n",
    "    elif grasp_gen[1]<grasp_gen[0]:\n",
    "        remove_snode.append(num_snode)\n",
    "        print \"::::; Grasping points are around hollow\"\n",
    "    else:\n",
    "        print \"::::: PERFECT\"\n",
    "        p\n",
    "        actual_grasp_centre.append(grasp_centre)\n",
    "    print ''\n",
    "\n",
    "for i in list(reversed(remove_snode)):\n",
    "    possible_second_node.pop(i)\n",
    "\n",
    "print actual_grasp_centre\n",
    "grasping_limit = 200\n",
    "second_node = possible_second_node[0]\n",
    "\n",
    "\n",
    "for snode in possible_second_node:\n",
    "    node_dist = np.sqrt(sum((snode-first_node)**2))\n",
    "    if node_dist < grasping_limit:\n",
    "        grasping_limit = node_dist\n",
    "        second_node = snode\n",
    "        actual_grasp_centre = (snode+first_node)/2\n",
    "        \n",
    "print \"Final Second Node: \", second_node\n",
    "print \"Actual Grasp Centre: \", actual_grasp_centre\n",
    "\n",
    "\n",
    "\n"
   ]
  },
  {
   "cell_type": "code",
   "execution_count": null,
   "metadata": {
    "collapsed": true
   },
   "outputs": [],
   "source": [
    "ball_object.children"
   ]
  },
  {
   "cell_type": "code",
   "execution_count": null,
   "metadata": {
    "collapsed": true
   },
   "outputs": [],
   "source": [
    "\n",
    "\n",
    "def find_point_generation(point, family):\n",
    "    closest_contour = find_closest_contour(point, family)\n",
    "    print \"CONTOUR_ID: \", closest_contour['id']\n",
    "    distance = cv2.pointPolygonTest(closest_cnt['contour'][0], \n",
    "                                    (point[0],point[1]), measureDist=True)\n",
    "    if distance < 0:\n",
    "        print \"OUTSIDE NEAREST CONTOUR\"\n",
    "        child_count = 0\n",
    "        for member in family:\n",
    "            if closest_contour['id'] in member['children']:\n",
    "                print \"INSIDE PARENT\"\n",
    "                parent_dist = cv2.pointPolygonTest(member['contour'][0],\n",
    "                                                  (point[0], point[1]), measureDist=True)\n",
    "                if parent_dist<0:\n",
    "                    print \"SOMETHING WRONG HAS HAPPENED\"\n",
    "                else:\n",
    "                    point_generation = member['generation']\n",
    "                    child_count = child_count + 1\n",
    "        if child_count == 0:\n",
    "            point_generation = closest_contour['generation']-1\n",
    "    else:\n",
    "        point_generation = closest_contour['generation']\n",
    "    \n",
    "    return point_generation\n",
    "\n"
   ]
  },
  {
   "cell_type": "code",
   "execution_count": null,
   "metadata": {
    "collapsed": true
   },
   "outputs": [],
   "source": []
  },
  {
   "cell_type": "code",
   "execution_count": null,
   "metadata": {
    "collapsed": true
   },
   "outputs": [],
   "source": [
    "import grasping_points as gp\n",
    "\n",
    "gp.find_closest_contour(ball_object.centre)"
   ]
  },
  {
   "cell_type": "code",
   "execution_count": null,
   "metadata": {
    "collapsed": true
   },
   "outputs": [],
   "source": []
  },
  {
   "cell_type": "code",
   "execution_count": null,
   "metadata": {
    "collapsed": true
   },
   "outputs": [],
   "source": []
  },
  {
   "cell_type": "code",
   "execution_count": null,
   "metadata": {
    "collapsed": true
   },
   "outputs": [],
   "source": []
  },
  {
   "cell_type": "markdown",
   "metadata": {},
   "source": [
    "import pandas as pd\n",
    "object_df = create_object_df()\n",
    "create_csv(\"object2.csv\", object_df)\n",
    "\n",
    "for item in object_list.keys():\n",
    "    dic = prepare_object_dict(object_list[item],object_df)\n",
    "    object_df = object_df.append(dic, ignore_index=True)\n",
    "\n",
    "add_to_csv(\"object2.csv\", object_df)"
   ]
  },
  {
   "cell_type": "code",
   "execution_count": null,
   "metadata": {
    "collapsed": true
   },
   "outputs": [],
   "source": [
    "a=object_list['cup'].return_object_attributes()\n",
    "b,g,r,x = cv2.split(test_rgbx_img)\n",
    "test_rgb_img = cv2.merge([r,g,b])"
   ]
  },
  {
   "cell_type": "code",
   "execution_count": null,
   "metadata": {
    "collapsed": true
   },
   "outputs": [],
   "source": [
    "\n"
   ]
  },
  {
   "cell_type": "code",
   "execution_count": null,
   "metadata": {
    "collapsed": true
   },
   "outputs": [],
   "source": []
  },
  {
   "cell_type": "code",
   "execution_count": null,
   "metadata": {
    "collapsed": true
   },
   "outputs": [],
   "source": []
  }
 ],
 "metadata": {
  "kernelspec": {
   "display_name": "Python 2",
   "language": "python",
   "name": "python2"
  },
  "language_info": {
   "codemirror_mode": {
    "name": "ipython",
    "version": 2
   },
   "file_extension": ".py",
   "mimetype": "text/x-python",
   "name": "python",
   "nbconvert_exporter": "python",
   "pygments_lexer": "ipython2",
   "version": "2.7.13"
  }
 },
 "nbformat": 4,
 "nbformat_minor": 2
}
