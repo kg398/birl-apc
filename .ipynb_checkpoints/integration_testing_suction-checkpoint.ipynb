{
 "cells": [
  {
   "cell_type": "code",
   "execution_count": 1,
   "metadata": {
    "collapsed": true
   },
   "outputs": [],
   "source": [
    "#IMPORT CONSTANTS\n",
    "\n",
    "import numpy as np\n",
    "from matplotlib import pyplot as plt\n",
    "import cv2\n",
    "%matplotlib inline\n",
    "import copy\n",
    "\n",
    "\n",
    "import vision_tools as vt\n",
    "\n",
    "import kinect_vision as kv\n",
    "from kinect_vision import PATH_TO_KINECT_IMAGES_DIR"
   ]
  },
  {
   "cell_type": "code",
   "execution_count": 2,
   "metadata": {
    "collapsed": true
   },
   "outputs": [],
   "source": [
    "\n",
    "import pandas as pd\n",
    "def create_object_df():\n",
    "    obj_df = pd.DataFrame(columns = ['name', \n",
    "                                     'area', \n",
    "                                     'aspect',###### \n",
    "                                     'fill', ######\n",
    "                                     'circularness',##### \n",
    "                                     'number of children',#####\n",
    "                                     'rgb_area',\n",
    "                                     'rgb_aspect',#####\n",
    "                                     'rgb_fill',#####\n",
    "                                     'rgb_circularness',#####\n",
    "                                     'rgb_average',#####\n",
    "                                     'median_height',#####\n",
    "                                     'mean_height' #####\n",
    "                                    ])\n",
    "    return obj_df\n",
    "\n",
    "def prepare_object_dict(tableObject, obj_df):\n",
    "    copy.copy(tableObject)\n",
    "    object_dict = tableObject.return_object_attributes()\n",
    "    \n",
    "    \n",
    "    box = tableObject.rgb_box\n",
    "    first_line = np.sqrt(sum((box[1]-box[0])**2))\n",
    "    second_line = np.sqrt(sum((box[2]-box[1])**2))\n",
    "    rgb_aspect = first_line/second_line\n",
    "    if rgb_aspect > 1:\n",
    "        rgb_aspect = second_line/first_line\n",
    "    object_dict['rgb_aspect'] = rgb_aspect\n",
    "    \n",
    "    rgb_boundBoxArea = cv2.contourArea(tableObject.rgb_box)\n",
    "    rgb_fill = tableObject.rgb_area/rgb_boundBoxArea\n",
    "    object_dict['rgb_fill'] = rgb_fill\n",
    "    \n",
    "    rgb_boundCircleArea = np.pi*(tableObject.rgb_radius)**2\n",
    "    rgb_circularness = tableObject.rgb_area/rgb_boundCircleArea\n",
    "    object_dict['rgb_circularness'] = rgb_circularness\n",
    "    \n",
    "    try:\n",
    "        # FILL\n",
    "        boundBoxArea = cv2.contourArea(tableObject.box)\n",
    "        fill = tableObject.area/boundBoxArea\n",
    "        \n",
    "        # ASPECT\n",
    "        box = tableObject.box\n",
    "        first_line = np.sqrt(sum((box[1]-box[0])**2))\n",
    "        second_line = np.sqrt(sum((box[2]-box[1])**2))\n",
    "        aspect = first_line/second_line\n",
    "        if aspect > 1:\n",
    "            aspect = second_line/first_line\n",
    "            \n",
    "        # CIRCULARNESS\n",
    "        boundCircleArea = np.pi*(tableObject.radius)**2\n",
    "        circularness = tableObject.area/boundCircleArea\n",
    "        \n",
    "        # NUMBER OF CHILDREN\n",
    "        object_dict['number of children'] = len(tableObject.children)\n",
    "        \n",
    "        # HEIGHTS\n",
    "        median_height = tableObject.height[0]\n",
    "        mean_height = tableObject.height[1]\n",
    "        \n",
    "    except:\n",
    "        aspect = rgb_aspect\n",
    "        circularness = rgb_circularness\n",
    "        fill = rgb_fill\n",
    "        median_height = 0\n",
    "        mean_height = 0\n",
    "        object_dict['number of children'] = 0\n",
    "        \n",
    "    object_dict['aspect'] = aspect\n",
    "    object_dict['circularness'] = circularness\n",
    "    object_dict['fill'] = fill\n",
    "    object_dict['median_height'] = median_height\n",
    "    object_dict['mean_height'] = mean_height\n",
    "    \n",
    "    \n",
    "    for key in object_dict.keys():\n",
    "        if key not in obj_df.head():\n",
    "            del object_dict[key]\n",
    "    return object_dict\n",
    "\n",
    "\n",
    "    \n",
    "def create_csv(filename, df):\n",
    "    if len(filename)>4:\n",
    "        if filename[-4:]!=\".csv\":\n",
    "            filename = filename + \".csv\"\n",
    "    header = df.keys()\n",
    "    df.to_csv(filename, columns = header)\n",
    "    print \"done\"\n",
    "\n",
    "def add_to_csv(filename, df):\n",
    "    with open(filename, 'a') as f:\n",
    "        df.to_csv(f, header=False)"
   ]
  },
  {
   "cell_type": "code",
   "execution_count": 3,
   "metadata": {
    "collapsed": true
   },
   "outputs": [],
   "source": [
    "#directory = kv.run_kinect_server()\n",
    "directory = PATH_TO_KINECT_IMAGES_DIR"
   ]
  },
  {
   "cell_type": "code",
   "execution_count": null,
   "metadata": {},
   "outputs": [
    {
     "name": "stdout",
     "output_type": "stream",
     "text": [
      "{'radius': [10, 16], 'thresh': [85, 220]}\n",
      "9\n",
      "All Calibration points found\n"
     ]
    },
    {
     "data": {
      "image/png": "[encoded data removed]",
      "text/plain": [
       "<matplotlib.figure.Figure at 0x7f649b687c50>"
      ]
     },
     "metadata": {},
     "output_type": "display_data"
    },
    {
     "name": "stdout",
     "output_type": "stream",
     "text": [
      "Continue?: yes\n"
     ]
    }
   ],
   "source": [
    "test_num2 = str(1)\n",
    "test_num = str(1)\n",
    "\n",
    "test = kv.load_npz_as_array(\"im_array_\"+test_num2, directory)\n",
    "cali = kv.load_npz_as_array(\"im_array_cal\"+test_num, directory)\n",
    "empt = kv.load_npz_as_array(\"im_array_empty\"+test_num, directory)\n",
    "\n",
    "test_all = kv.prepare_im_array(test)\n",
    "empt_all = kv.prepare_im_array(empt)\n",
    "cali_all = kv.prepare_im_array(cali)\n",
    "\n",
    "\n",
    "from image_processing import run_image_processing\n",
    "\n",
    "from image_processing import run_calibration, run_calibration_rgb\n",
    "from image_processing import run_image_processing_v2_depth, run_image_processing_v2_rgb\n",
    "\n",
    "depth_cali = run_calibration(empt_all, cali_all)\n",
    "rgb_cali = run_calibration_rgb(empt_all, cali_all, depth_cali)\n",
    "\n",
    "\n",
    "\n",
    "sorted_family, normclean = run_image_processing_v2_depth(test_all, depth_cali, show=False)\n",
    "rgbnormclean, rgb_family, test_rgbx_img = run_image_processing_v2_rgb(test_all, rgb_cali, depth_cali, show=False)\n",
    "\n",
    "\n",
    "\n",
    "#normclean, sorted_family, rgbnormclean, rgb_family, test_rgbx_img=run_image_processing(test, empt, cali, adjust=False, show=False)"
   ]
  },
  {
   "cell_type": "code",
   "execution_count": 14,
   "metadata": {},
   "outputs": [
    {
     "data": {
      "text/plain": [
       "[{'children': [1], 'contour': [array([[[ 59,  86]],\n",
       "   \n",
       "          [[ 53,  91]],\n",
       "   \n",
       "          [[ 53,  99]],\n",
       "   \n",
       "          [[ 57, 112]],\n",
       "   \n",
       "          [[ 61, 115]],\n",
       "   \n",
       "          [[ 74, 113]],\n",
       "   \n",
       "          [[ 79, 109]],\n",
       "   \n",
       "          [[ 81, 103]],\n",
       "   \n",
       "          [[ 80,  91]],\n",
       "   \n",
       "          [[ 68,  85]]])], 'generation': 0, 'height': (0.13021718,\n",
       "   0.11990011,\n",
       "   0.31514946,\n",
       "   0.0), 'id': 0},\n",
       " {'children': [], 'contour': [array([[[ 64,  87]],\n",
       "   \n",
       "          [[ 75,  91]],\n",
       "   \n",
       "          [[ 79,  96]],\n",
       "   \n",
       "          [[ 79, 101]],\n",
       "   \n",
       "          [[ 77, 106]],\n",
       "   \n",
       "          [[ 69, 112]],\n",
       "   \n",
       "          [[ 61, 112]],\n",
       "   \n",
       "          [[ 57, 105]],\n",
       "   \n",
       "          [[ 56,  93]]])], 'generation': 1, 'height': (0.32144085,\n",
       "   0.31632942,\n",
       "   0.3957276,\n",
       "   0.18902376), 'id': 1},\n",
       " {'children': [3], 'contour': [array([[[139,  80]],\n",
       "   \n",
       "          [[131,  85]],\n",
       "   \n",
       "          [[131,  90]],\n",
       "   \n",
       "          [[137,  97]],\n",
       "   \n",
       "          [[117, 122]],\n",
       "   \n",
       "          [[117, 125]],\n",
       "   \n",
       "          [[134, 139]],\n",
       "   \n",
       "          [[141, 135]],\n",
       "   \n",
       "          [[169, 102]],\n",
       "   \n",
       "          [[169,  97]],\n",
       "   \n",
       "          [[155,  85]],\n",
       "   \n",
       "          [[149,  85]],\n",
       "   \n",
       "          [[140,  92]],\n",
       "   \n",
       "          [[134,  87]]])], 'generation': 0, 'height': (0.082129553,\n",
       "   0.089132905,\n",
       "   0.31546456,\n",
       "   0.0), 'id': 2},\n",
       " {'children': [], 'contour': [array([[[153,  88]],\n",
       "   \n",
       "          [[165,  98]],\n",
       "   \n",
       "          [[165, 102]],\n",
       "   \n",
       "          [[140, 131]],\n",
       "   \n",
       "          [[134, 135]],\n",
       "   \n",
       "          [[122, 124]],\n",
       "   \n",
       "          [[122, 121]],\n",
       "   \n",
       "          [[127, 114]],\n",
       "   \n",
       "          [[131, 114]],\n",
       "   \n",
       "          [[133, 106]],\n",
       "   \n",
       "          [[138, 100]]])], 'generation': 1, 'height': (0.201464,\n",
       "   0.20628703,\n",
       "   0.43886164,\n",
       "   0.098868243), 'id': 3},\n",
       " {'children': [5], 'contour': [array([[[ 98,  59]],\n",
       "   \n",
       "          [[ 95,  62]],\n",
       "   \n",
       "          [[ 93,  67]],\n",
       "   \n",
       "          [[ 94,  78]],\n",
       "   \n",
       "          [[100,  83]],\n",
       "   \n",
       "          [[113,  82]],\n",
       "   \n",
       "          [[117,  78]],\n",
       "   \n",
       "          [[117,  65]],\n",
       "   \n",
       "          [[115,  61]],\n",
       "   \n",
       "          [[110,  58]]])], 'generation': 0, 'height': (0.19782135,\n",
       "   0.19868162,\n",
       "   0.53567541,\n",
       "   0.0), 'id': 4},\n",
       " {'children': [], 'contour': [array([[[103,  60]],\n",
       "   \n",
       "          [[108,  60]],\n",
       "   \n",
       "          [[113,  64]],\n",
       "   \n",
       "          [[115,  68]],\n",
       "   \n",
       "          [[115,  75]],\n",
       "   \n",
       "          [[108,  81]],\n",
       "   \n",
       "          [[103,  81]],\n",
       "   \n",
       "          [[100,  79]],\n",
       "   \n",
       "          [[ 95,  73]],\n",
       "   \n",
       "          [[ 95,  69]],\n",
       "   \n",
       "          [[ 97,  67]],\n",
       "   \n",
       "          [[101,  67]],\n",
       "   \n",
       "          [[102,  66]],\n",
       "   \n",
       "          [[102,  61]]])], 'generation': 1, 'height': (0.48387355,\n",
       "   0.47351176,\n",
       "   0.61960286,\n",
       "   0.27570537), 'id': 5}]"
      ]
     },
     "execution_count": 14,
     "metadata": {},
     "output_type": "execute_result"
    }
   ],
   "source": [
    "normclean"
   ]
  },
  {
   "cell_type": "code",
   "execution_count": null,
   "metadata": {
    "collapsed": true
   },
   "outputs": [],
   "source": []
  },
  {
   "cell_type": "code",
   "execution_count": 11,
   "metadata": {},
   "outputs": [
    {
     "ename": "AttributeError",
     "evalue": "'list' object has no attribute 'astype'",
     "output_type": "error",
     "traceback": [
      "\u001b[0;31m---------------------------------------------------------------------------\u001b[0m",
      "\u001b[0;31mAttributeError\u001b[0m                            Traceback (most recent call last)",
      "\u001b[0;32m<ipython-input-11-5205728f2d80>\u001b[0m in \u001b[0;36m<module>\u001b[0;34m()\u001b[0m\n\u001b[1;32m      1\u001b[0m \u001b[0;32mfrom\u001b[0m \u001b[0mvision_tools\u001b[0m \u001b[0;32mimport\u001b[0m \u001b[0mnormclean2cv2\u001b[0m\u001b[0;34m\u001b[0m\u001b[0m\n\u001b[0;32m----> 2\u001b[0;31m \u001b[0mdepth_normclean\u001b[0m \u001b[0;34m=\u001b[0m \u001b[0mnormclean2cv2\u001b[0m\u001b[0;34m(\u001b[0m\u001b[0mnormclean\u001b[0m\u001b[0;34m)\u001b[0m\u001b[0;34m\u001b[0m\u001b[0m\n\u001b[0m\u001b[1;32m      3\u001b[0m \u001b[0mrgb_normclean\u001b[0m \u001b[0;34m=\u001b[0m \u001b[0mnormclean2cv2\u001b[0m\u001b[0;34m(\u001b[0m\u001b[0mrgbnormclean\u001b[0m\u001b[0;34m)\u001b[0m\u001b[0;34m\u001b[0m\u001b[0m\n\u001b[1;32m      4\u001b[0m \u001b[0;34m\u001b[0m\u001b[0m\n\u001b[1;32m      5\u001b[0m \u001b[0mtest_rgb_img\u001b[0m \u001b[0;34m=\u001b[0m \u001b[0mvt\u001b[0m\u001b[0;34m.\u001b[0m\u001b[0mconvert2rgb\u001b[0m\u001b[0;34m(\u001b[0m\u001b[0mtest_rgbx_img\u001b[0m\u001b[0;34m[\u001b[0m\u001b[0;36m0\u001b[0m\u001b[0;34m]\u001b[0m\u001b[0;34m)\u001b[0m\u001b[0;34m\u001b[0m\u001b[0m\n",
      "\u001b[0;32m/home/birl/tensorflow_ws/object_detection_py27/birl-apc/vision_tools.pyc\u001b[0m in \u001b[0;36mnormclean2cv2\u001b[0;34m(image)\u001b[0m\n\u001b[1;32m    306\u001b[0m     \u001b[0mimg\u001b[0m \u001b[0;34m=\u001b[0m \u001b[0mcopy\u001b[0m\u001b[0;34m.\u001b[0m\u001b[0mcopy\u001b[0m\u001b[0;34m(\u001b[0m\u001b[0mimage\u001b[0m\u001b[0;34m)\u001b[0m\u001b[0;34m\u001b[0m\u001b[0m\n\u001b[1;32m    307\u001b[0m     \u001b[0mimg\u001b[0m \u001b[0;34m=\u001b[0m \u001b[0mimg\u001b[0m\u001b[0;34m*\u001b[0m\u001b[0;36m255\u001b[0m\u001b[0;34m\u001b[0m\u001b[0m\n\u001b[0;32m--> 308\u001b[0;31m     \u001b[0mimg\u001b[0m \u001b[0;34m=\u001b[0m \u001b[0mimg\u001b[0m\u001b[0;34m.\u001b[0m\u001b[0mastype\u001b[0m\u001b[0;34m(\u001b[0m\u001b[0;34m\"uint8\"\u001b[0m\u001b[0;34m)\u001b[0m\u001b[0;34m\u001b[0m\u001b[0m\n\u001b[0m\u001b[1;32m    309\u001b[0m     \u001b[0;32mreturn\u001b[0m \u001b[0mimg\u001b[0m\u001b[0;34m\u001b[0m\u001b[0m\n",
      "\u001b[0;31mAttributeError\u001b[0m: 'list' object has no attribute 'astype'"
     ]
    }
   ],
   "source": [
    "from vision_tools import normclean2cv2\n",
    "depth_normclean = normclean2cv2(normclean)\n",
    "rgb_normclean = normclean2cv2(rgbnormclean)\n",
    "\n",
    "test_rgb_img = vt.convert2rgb(test_rgbx_img[0])\n",
    "\n",
    "b,g,r,x = cv2.split(test_rgbx_img)\n",
    "test_rgb_img = cv2.merge([r,g,b])\n"
   ]
  },
  {
   "cell_type": "code",
   "execution_count": 8,
   "metadata": {},
   "outputs": [
    {
     "ename": "NameError",
     "evalue": "name 'depth_normclean' is not defined",
     "output_type": "error",
     "traceback": [
      "\u001b[0;31m---------------------------------------------------------------------------\u001b[0m",
      "\u001b[0;31mNameError\u001b[0m                                 Traceback (most recent call last)",
      "\u001b[0;32m<ipython-input-8-7aeecae6a9b0>\u001b[0m in \u001b[0;36m<module>\u001b[0;34m()\u001b[0m\n\u001b[1;32m      1\u001b[0m \u001b[0;32mfrom\u001b[0m \u001b[0mtableObject_class\u001b[0m \u001b[0;32mimport\u001b[0m \u001b[0mfind_object\u001b[0m\u001b[0;34m\u001b[0m\u001b[0m\n\u001b[0;32m----> 2\u001b[0;31m \u001b[0mobj_list\u001b[0m \u001b[0;34m=\u001b[0m \u001b[0mfind_object\u001b[0m\u001b[0;34m(\u001b[0m\u001b[0mdepth_normclean\u001b[0m\u001b[0;34m,\u001b[0m \u001b[0mfamily\u001b[0m\u001b[0;34m=\u001b[0m\u001b[0msorted_family\u001b[0m\u001b[0;34m)\u001b[0m\u001b[0;34m\u001b[0m\u001b[0m\n\u001b[0m",
      "\u001b[0;31mNameError\u001b[0m: name 'depth_normclean' is not defined"
     ]
    }
   ],
   "source": [
    "from tableObject_class import find_object\n",
    "obj_list = find_object(depth_normclean, family=sorted_family)"
   ]
  },
  {
   "cell_type": "code",
   "execution_count": 7,
   "metadata": {},
   "outputs": [
    {
     "name": "stdout",
     "output_type": "stream",
     "text": [
      "1\n",
      "RGB data considered\n",
      "Depth data implemented\n",
      "depth\n"
     ]
    },
    {
     "data": {
      "image/png": "[encoded data removed]",
      "text/plain": [
       "<matplotlib.figure.Figure at 0x7f82ea764e50>"
      ]
     },
     "metadata": {},
     "output_type": "display_data"
    },
    {
     "name": "stdout",
     "output_type": "stream",
     "text": [
      "Name of object?: tape measure\n",
      "3\n",
      "RGB data considered\n",
      "Depth data implemented\n",
      "depth\n"
     ]
    },
    {
     "data": {
      "image/png": "[encoded data removed]",
      "text/plain": [
       "<matplotlib.figure.Figure at 0x7f82e9ea8c90>"
      ]
     },
     "metadata": {},
     "output_type": "display_data"
    },
    {
     "name": "stdout",
     "output_type": "stream",
     "text": [
      "Name of object?: eraser\n",
      "5\n",
      "RGB data considered\n",
      "Depth data implemented\n",
      "depth\n"
     ]
    },
    {
     "data": {
      "image/png": "[encoded data removed]",
      "text/plain": [
       "<matplotlib.figure.Figure at 0x7f82e9db3990>"
      ]
     },
     "metadata": {},
     "output_type": "display_data"
    },
    {
     "name": "stdout",
     "output_type": "stream",
     "text": [
      "Name of object?: ball\n",
      "Depth data implemented\n",
      "item\n",
      "item\n"
     ]
    },
    {
     "data": {
      "image/png": "[encoded data removed]",
      "text/plain": [
       "<matplotlib.figure.Figure at 0x7f82e9cf1390>"
      ]
     },
     "metadata": {},
     "output_type": "display_data"
    },
    {
     "name": "stdout",
     "output_type": "stream",
     "text": [
      "Name of object?: eraser\n",
      "Depth data implemented\n",
      "item\n",
      "item\n"
     ]
    },
    {
     "data": {
      "image/png": "[encoded data removed]",
      "text/plain": [
       "<matplotlib.figure.Figure at 0x7f82e9c88e10>"
      ]
     },
     "metadata": {},
     "output_type": "display_data"
    },
    {
     "name": "stdout",
     "output_type": "stream",
     "text": [
      "Name of object?: ball\n",
      "Depth data implemented\n",
      "item\n",
      "item\n"
     ]
    },
    {
     "data": {
      "image/png": "[encoded data removed]",
      "text/plain": [
       "<matplotlib.figure.Figure at 0x7f82e9bd1e90>"
      ]
     },
     "metadata": {},
     "output_type": "display_data"
    },
    {
     "name": "stdout",
     "output_type": "stream",
     "text": [
      "Name of object?: tape measure\n",
      "Depth data implemented\n",
      "item\n",
      "item\n"
     ]
    },
    {
     "data": {
      "image/png": "[encoded data removed]",
      "text/plain": [
       "<matplotlib.figure.Figure at 0x7f82e9af6fd0>"
      ]
     },
     "metadata": {},
     "output_type": "display_data"
    },
    {
     "name": "stdout",
     "output_type": "stream",
     "text": [
      "Name of object?: cd\n"
     ]
    }
   ],
   "source": [
    "\n",
    "from tableObject_class import TableObject, match_rgb_with_depth\n",
    "object_list = match_rgb_with_depth(sorted_family, rgb_family, depth_normclean, test_rgb_img, label=True)"
   ]
  },
  {
   "cell_type": "code",
   "execution_count": 29,
   "metadata": {
    "collapsed": true
   },
   "outputs": [],
   "source": [
    "ball_object = object_list['ball']\n",
    "cd_object = object_list['cd']\n",
    "tape_object = object_list['tape measure']"
   ]
  },
  {
   "cell_type": "code",
   "execution_count": 30,
   "metadata": {},
   "outputs": [
    {
     "data": {
      "text/plain": [
       "{'children': [],\n",
       " 'generation': 0,\n",
       " 'height': (0, 0, 0, 0),\n",
       " 'item_contour': [array([[[140,   9]],\n",
       "  \n",
       "         [[139,  10]],\n",
       "  \n",
       "         [[137,  10]],\n",
       "  \n",
       "         [[136,  11]],\n",
       "  \n",
       "         [[134,  11]],\n",
       "  \n",
       "         [[133,  12]],\n",
       "  \n",
       "         [[132,  12]],\n",
       "  \n",
       "         [[130,  14]],\n",
       "  \n",
       "         [[129,  14]],\n",
       "  \n",
       "         [[124,  19]],\n",
       "  \n",
       "         [[124,  20]],\n",
       "  \n",
       "         [[122,  22]],\n",
       "  \n",
       "         [[122,  23]],\n",
       "  \n",
       "         [[121,  24]],\n",
       "  \n",
       "         [[121,  26]],\n",
       "  \n",
       "         [[120,  27]],\n",
       "  \n",
       "         [[120,  30]],\n",
       "  \n",
       "         [[119,  31]],\n",
       "  \n",
       "         [[119,  41]],\n",
       "  \n",
       "         [[120,  42]],\n",
       "  \n",
       "         [[120,  46]],\n",
       "  \n",
       "         [[121,  47]],\n",
       "  \n",
       "         [[121,  49]],\n",
       "  \n",
       "         [[122,  50]],\n",
       "  \n",
       "         [[122,  51]],\n",
       "  \n",
       "         [[124,  53]],\n",
       "  \n",
       "         [[124,  54]],\n",
       "  \n",
       "         [[129,  59]],\n",
       "  \n",
       "         [[130,  59]],\n",
       "  \n",
       "         [[131,  60]],\n",
       "  \n",
       "         [[132,  60]],\n",
       "  \n",
       "         [[133,  61]],\n",
       "  \n",
       "         [[135,  61]],\n",
       "  \n",
       "         [[136,  62]],\n",
       "  \n",
       "         [[138,  62]],\n",
       "  \n",
       "         [[139,  63]],\n",
       "  \n",
       "         [[152,  63]],\n",
       "  \n",
       "         [[153,  62]],\n",
       "  \n",
       "         [[156,  62]],\n",
       "  \n",
       "         [[157,  61]],\n",
       "  \n",
       "         [[159,  61]],\n",
       "  \n",
       "         [[160,  60]],\n",
       "  \n",
       "         [[161,  60]],\n",
       "  \n",
       "         [[162,  59]],\n",
       "  \n",
       "         [[163,  59]],\n",
       "  \n",
       "         [[165,  57]],\n",
       "  \n",
       "         [[166,  57]],\n",
       "  \n",
       "         [[167,  56]],\n",
       "  \n",
       "         [[168,  56]],\n",
       "  \n",
       "         [[168,  54]],\n",
       "  \n",
       "         [[170,  52]],\n",
       "  \n",
       "         [[170,  51]],\n",
       "  \n",
       "         [[171,  50]],\n",
       "  \n",
       "         [[171,  48]],\n",
       "  \n",
       "         [[172,  47]],\n",
       "  \n",
       "         [[172,  46]],\n",
       "  \n",
       "         [[173,  45]],\n",
       "  \n",
       "         [[173,  43]],\n",
       "  \n",
       "         [[174,  42]],\n",
       "  \n",
       "         [[174,  35]],\n",
       "  \n",
       "         [[173,  34]],\n",
       "  \n",
       "         [[173,  27]],\n",
       "  \n",
       "         [[172,  26]],\n",
       "  \n",
       "         [[172,  23]],\n",
       "  \n",
       "         [[171,  22]],\n",
       "  \n",
       "         [[171,  20]],\n",
       "  \n",
       "         [[169,  18]],\n",
       "  \n",
       "         [[168,  18]],\n",
       "  \n",
       "         [[164,  14]],\n",
       "  \n",
       "         [[163,  14]],\n",
       "  \n",
       "         [[161,  12]],\n",
       "  \n",
       "         [[160,  12]],\n",
       "  \n",
       "         [[159,  11]],\n",
       "  \n",
       "         [[157,  11]],\n",
       "  \n",
       "         [[156,  10]],\n",
       "  \n",
       "         [[153,  10]],\n",
       "  \n",
       "         [[152,   9]]], dtype=int32)],\n",
       " 'name': 'cd',\n",
       " 'rgb_area': 2423.0,\n",
       " 'rgb_aspect': 0.98181818181818181,\n",
       " 'rgb_average': [199.92814371257484, 207.52734530938125, 207.45349301397206],\n",
       " 'rgb_box': array([[119,  63],\n",
       "        [119,   9],\n",
       "        [174,   9],\n",
       "        [174,  63]]),\n",
       " 'rgb_centre': (147.0933074951172, 36.43779754638672),\n",
       " 'rgb_circularness': 0.9162777881157036,\n",
       " 'rgb_fill': 0.8158249158249158,\n",
       " 'rgb_radius': 29.01270294189453}"
      ]
     },
     "execution_count": 30,
     "metadata": {},
     "output_type": "execute_result"
    }
   ],
   "source": [
    "cd_object.return_object_attributes()"
   ]
  },
  {
   "cell_type": "code",
   "execution_count": 14,
   "metadata": {
    "collapsed": true
   },
   "outputs": [],
   "source": [
    "def find_closest_contour(point, family):\n",
    "    closest_contour=family[0]\n",
    "    closest_contour['distance'] = cv2.pointPolygonTest((family[0]['contour'][0]), \n",
    "                                                   (point[0],point[1]), \n",
    "                                                   measureDist=True)\n",
    "    print len(family)\n",
    "    for i in range(len(family)):\n",
    "        distance = cv2.pointPolygonTest((family[i]['contour'][0]), \n",
    "                                        (point[0],point[1]), \n",
    "                                        measureDist=True)\n",
    "        print distance, closest_contour['distance']\n",
    "        if abs(distance)<abs(closest_contour['distance']):\n",
    "            closest_contour = family[i]\n",
    "            closest_contour['distance']=distance\n",
    "    return closest_contour\n",
    "\n",
    "def find_point_generation(point, family):\n",
    "    closest_contour = find_closest_contour(point, family)\n",
    "    print \"CONTOUR_ID: \", closest_contour['id']\n",
    "    distance = cv2.pointPolygonTest(closest_cnt['contour'][0], \n",
    "                                    (point[0],point[1]), measureDist=True)\n",
    "    if distance < 0:\n",
    "        print \"OUTSIDE NEAREST CONTOUR\"\n",
    "        child_count = 0\n",
    "        for member in family:\n",
    "            if closest_contour['id'] in member['children']:\n",
    "                print \"INSIDE PARENT\"\n",
    "                parent_dist = cv2.pointPolygonTest(member['contour'][0],\n",
    "                                                  (point[0], point[1]), measureDist=True)\n",
    "                if parent_dist<0:\n",
    "                    print \"SOMETHING WRONG HAS HAPPENED\"\n",
    "                else:\n",
    "                    point_generation = member['generation']\n",
    "                    child_count = child_count + 1\n",
    "        if child_count == 0:\n",
    "            point_generation = closest_contour['generation']-1\n",
    "    else:\n",
    "        point_generation = closest_contour['generation']\n",
    "    \n",
    "    return point_generation\n",
    "\n",
    "from scipy.spatial.distance import cdist\n",
    "def closest_node(node, contour):\n",
    "    nodes = []\n",
    "    for points in contour:\n",
    "        nodes.append(points[0])\n",
    "    return nodes[cdist([node], nodes).argmin()], cdist([node], nodes).argmin()\n",
    "\n",
    "def pnt2line(pnt, start, end):\n",
    "    line_vec = end-start\n",
    "    pnt_vec = pnt-start\n",
    "    line_len = np.sqrt(line_vec[0]**2+line_vec[1]**2)\n",
    "    #print line_vec, line_len\n",
    "    line_unitvec = (line_vec)/line_len\n",
    "    pnt_vec_scaled = pnt_vec*1.0/line_len\n",
    "    t = np.dot(line_unitvec, pnt_vec_scaled)    \n",
    "    if t < 0.0:\n",
    "        t = 0.0\n",
    "    elif t > 1.0:\n",
    "        t = 1.0\n",
    "    nearest = line_vec*t\n",
    "    dist = np.sqrt(sum((pnt_vec-nearest)**2))\n",
    "    nearest = start + nearest\n",
    "    return (dist, nearest)"
   ]
  },
  {
   "cell_type": "code",
   "execution_count": 20,
   "metadata": {},
   "outputs": [
    {
     "name": "stdout",
     "output_type": "stream",
     "text": [
      "\n"
     ]
    }
   ],
   "source": [
    "#consider ball_object\n",
    "\n",
    "def find_grasping_points(table_object, family):\n",
    "    closest_contour = find_closest_contour(table_object.centre, family)\n",
    "    \n",
    "    first_node1, node1_id = closest_node(table_object.centre, closest_contour['contour'][0])\n",
    "    \n",
    "    first_neighbours = closest_contour['contour'][0][node1_id-1:node1_id+2:2]\n",
    "    \n",
    "    first_node2, node2_id = closest_node(table_object.centre, first_neighbours)\n",
    "    \n",
    "    print \"First Node1: \", first_node1\n",
    "    print \"First Node2: \", first_node2\n",
    "    dist, first_node = pnt2line(table_object.centre, first_node1, first_node2)\n",
    "    print dist, first_node\n",
    "    \n",
    "    return first_node"
   ]
  },
  {
   "cell_type": "code",
   "execution_count": 21,
   "metadata": {},
   "outputs": [
    {
     "name": "stdout",
     "output_type": "stream",
     "text": [
      "2\n",
      "11.5 11.5\n",
      "5.65685424949 11.5\n",
      "First Node1:  [101  67]\n",
      "First Node2:  [102  66]\n",
      "5.65685424949 [ 101.5   66.5]\n"
     ]
    }
   ],
   "source": [
    "first_node = find_grasping_points(ball_object, ball_object.nuclear)\n"
   ]
  },
  {
   "cell_type": "code",
   "execution_count": null,
   "metadata": {
    "collapsed": true
   },
   "outputs": [],
   "source": [
    "ball_object.id"
   ]
  },
  {
   "cell_type": "code",
   "execution_count": null,
   "metadata": {
    "collapsed": true
   },
   "outputs": [],
   "source": [
    "a = [(0,0), (1,1), (3,3)]\n",
    "\n",
    "b = [(0.1, 0), (3, 3.2), (1.5, 1), (1.1, 1.1)]\n",
    "\n",
    "def join_coordinates(a,b):\n",
    "    max_items = max(len(a), len(b))\n",
    "    \n",
    "    for items in len(range(max_items)):\n",
    "        "
   ]
  },
  {
   "cell_type": "code",
   "execution_count": null,
   "metadata": {
    "collapsed": true
   },
   "outputs": [],
   "source": [
    "closest_cnt = family[0]\n",
    "closest_cnt['distance'] = cv2.pointPolygonTest((family[0]['contour'][0]), \n",
    "                                               (cv2_current_centre[0],cv2_current_centre[1]), \n",
    "                                               measureDist=True)\n",
    "#centre_generation = closest_cnt['generation'] + int(distance/abs(distance))\n",
    "\n",
    "for i in accepted:\n",
    "    distance = cv2.pointPolygonTest((family[i]['contour'][0]), (object_centres[0][1], object_centres[0][0]), measureDist=True)\n",
    "    print \"Object Centre to Contour \", i, \" Distance: \", distance\n",
    "    if abs(distance)<abs(closest_cnt['distance']):\n",
    "        closest_cnt = family[i]\n",
    "        closest_cnt['distance'] = distance\n",
    "        #centre_generation = closest_cnt['generation'] + int(distance/abs(distance))\n",
    "\n",
    "#dist_ref = 200\n",
    "#nearest_point = [0,0]\n",
    "#for i in possible_pairs:\n",
    "#    dist, nearest = pnt2line(first_node, i[0], i[1])\n",
    " #   if dist_ref>dist:\n",
    " #       dist_ref = dist\n",
    " ##       print dist\n",
    " #       second_node = [int(p) for p in nearest]#\n",
    "#print second_node\n",
    "        \n",
    "current_cnt = []\n",
    "for points in closest_cnt['contour'][0]:\n",
    "    current_cnt.append(points[0])\n",
    "first_node1 = closest_node(cv2_current_centre, current_cnt)\n",
    "\n",
    "for qq, pp in enumerate(closest_cnt['contour'][0]):\n",
    "    #print pp[0]\n",
    "    if np.all(pp[0]==first_node1):\n",
    "        if pp[0][0]==first_node1[0] and pp[0][1]==first_node1[1]:\n",
    "            first_node1_location =qq\n",
    "\n",
    "first_neighbours=closest_cnt['contour'][0][first_node1_location-1:first_node1_location+2:2]\n",
    "#print [abs(g[0][0]**2 + g[0][1]**2) for g in first_neighbours]\n",
    "print first_neighbours, first_node1\n",
    "first_node2 = first_neighbours[np.argmin([abs((g[0][0]-cv2_current_centre[0])**2 \n",
    "                                                  + (g[0][1]-cv2_current_centre[1])**2) for g in first_neighbours])]\n",
    "first_node2 = first_node2[0]\n",
    "\n",
    "print \"First Node1: \", first_node1\n",
    "print \"First Node2: \", first_node2\n",
    "dist, first_node = pnt2line(cv2_current_centre, first_node1, first_node2)\n",
    "print dist, first_node\n",
    "\n",
    "#Find first node:\n",
    "current_cnt = []\n",
    "#for points in closest_cnt['contour'][0]:\n",
    "#    current_cnt.append(points[0])\n",
    "#first_node = closest_node(cv2_current_centre, current_cnt)\n",
    "print \"Object Centre: \", cv2_current_centre\n",
    "print \"First Node: \", first_node\n",
    "\n",
    "\n",
    "#current_line = \n",
    "#print \"current\", current_line\n",
    "\n",
    "vect = first_node2-first_node1\n",
    "print \"Vector: \", vect\n",
    "gradient = float(vect[1])/vect[0]\n",
    "print gradient\n",
    "if gradient == 0:\n",
    "    current_line = [0.0, 1.0]\n",
    "else:\n",
    "    perp_grad = -1/gradient\n",
    "    current_line = [1.0, perp_grad]\n",
    "\n",
    "print \"Perpendicular Line\",current_line\n",
    "#current_line = second_node-first_node\n",
    "possible_pairs = []\n",
    "for x in accepted:\n",
    "    sec_cnt = []\n",
    "    for points in family[x]['contour'][0]:\n",
    "        sec_cnt.append(points[0])\n",
    "    #print sec_cnt\n",
    "    for i,j in enumerate(sec_cnt):\n",
    "        #print j\n",
    "        if i>0:\n",
    "            check1 = sec_cnt[i-1] - first_node\n",
    "            check2 = sec_cnt[i] - first_node\n",
    "            sign1 = check1[0]*current_line[1] - check1[1]*current_line[0]\n",
    "            sign2 = check2[0]*current_line[1] - check2[1]*current_line[0]\n",
    "            #print sign1, sign2\n",
    "            #print (sign1/abs(sign1), sign2/abs(sign2))\n",
    "            \n",
    "            if sign1*sign2 <0:\n",
    "                possible_pairs.append([sec_cnt[i-1], sec_cnt[i]])\n",
    "                \n",
    "#print \"Possible Pairs: \",possible_pairs\n",
    "#print \"Length: \", len(possible_pairs)\n",
    "\n",
    "for pair_num,pair in enumerate(list(reversed(possible_pairs))):\n",
    "    #print \"Checking current pair: \", pair_num, pair\n",
    "    #print \"Against: \", first_node1, \" and \", first_node2\n",
    "    if np.array_equal(first_node1, pair[0]) or np.array_equal(first_node1, pair[1]):\n",
    "        if np.array_equal(first_node2, pair[0]) or np.array_equal(first_node2, pair[1]):\n",
    "            #print possible_pairs\n",
    "            print pair\n",
    "            possible_pairs.pop(-(pair_num+1))\n",
    "                \n",
    "print \"possible second_pair: \", possible_pairs  \n",
    "print len(possible_pairs)\n",
    "\n",
    "possible_second_node=[]\n",
    "for i in possible_pairs:\n",
    "    dist, nearest = pnt2line(first_node, i[0], i[1])\n",
    "    possible_second_node.append([p for p in nearest])\n",
    "#print \"Possible Second Nodes: \", possible_second_node\n",
    "#print  \"Length possible second nodes: \", len(possible_second_node)\n",
    "actual_grasp_centre = []\n",
    "\n",
    "remove_snode = []\n",
    "for num_snode, snode in enumerate(possible_second_node):\n",
    "    node_separation = snode - first_node\n",
    "    grasp_centre = first_node + node_separation/2\n",
    "    print \"...............................\", snode\n",
    "    print \"GRASP CENTRE: \",grasp_centre\n",
    "            \n",
    "    grasp_node1 = first_node - node_separation*0.02\n",
    "    grasp_node2 = snode + node_separation * 0.02\n",
    "    grasp_gen = {}\n",
    "    for gnum, grasp_point in enumerate([grasp_node1, grasp_centre, grasp_node2]):\n",
    "        grasp_gen[gnum]=find_point_generation(grasp_point, family)\n",
    "        print gnum, \"+++++++++++++++\",grasp_gen\n",
    "        print grasp_point\n",
    "    print \"Grasp generations: \", grasp_gen\n",
    "    print \"\"\n",
    "    if grasp_gen[0]!=grasp_gen[2]:\n",
    "        remove_snode.append(num_snode)\n",
    "        print \"::::: Grasping points at different levels\"\n",
    "    elif grasp_gen[1]<grasp_gen[0]:\n",
    "        remove_snode.append(num_snode)\n",
    "        print \"::::; Grasping points are around hollow\"\n",
    "    else:\n",
    "        print \"::::: PERFECT\"\n",
    "        p\n",
    "        actual_grasp_centre.append(grasp_centre)\n",
    "    print ''\n",
    "\n",
    "for i in list(reversed(remove_snode)):\n",
    "    possible_second_node.pop(i)\n",
    "\n",
    "print actual_grasp_centre\n",
    "grasping_limit = 200\n",
    "second_node = possible_second_node[0]\n",
    "\n",
    "\n",
    "for snode in possible_second_node:\n",
    "    node_dist = np.sqrt(sum((snode-first_node)**2))\n",
    "    if node_dist < grasping_limit:\n",
    "        grasping_limit = node_dist\n",
    "        second_node = snode\n",
    "        actual_grasp_centre = (snode+first_node)/2\n",
    "        \n",
    "print \"Final Second Node: \", second_node\n",
    "print \"Actual Grasp Centre: \", actual_grasp_centre\n",
    "\n",
    "\n",
    "\n"
   ]
  },
  {
   "cell_type": "code",
   "execution_count": null,
   "metadata": {
    "collapsed": true
   },
   "outputs": [],
   "source": [
    "ball_object.children"
   ]
  },
  {
   "cell_type": "code",
   "execution_count": null,
   "metadata": {
    "collapsed": true
   },
   "outputs": [],
   "source": [
    "\n",
    "\n",
    "def find_point_generation(point, family):\n",
    "    closest_contour = find_closest_contour(point, family)\n",
    "    print \"CONTOUR_ID: \", closest_contour['id']\n",
    "    distance = cv2.pointPolygonTest(closest_cnt['contour'][0], \n",
    "                                    (point[0],point[1]), measureDist=True)\n",
    "    if distance < 0:\n",
    "        print \"OUTSIDE NEAREST CONTOUR\"\n",
    "        child_count = 0\n",
    "        for member in family:\n",
    "            if closest_contour['id'] in member['children']:\n",
    "                print \"INSIDE PARENT\"\n",
    "                parent_dist = cv2.pointPolygonTest(member['contour'][0],\n",
    "                                                  (point[0], point[1]), measureDist=True)\n",
    "                if parent_dist<0:\n",
    "                    print \"SOMETHING WRONG HAS HAPPENED\"\n",
    "                else:\n",
    "                    point_generation = member['generation']\n",
    "                    child_count = child_count + 1\n",
    "        if child_count == 0:\n",
    "            point_generation = closest_contour['generation']-1\n",
    "    else:\n",
    "        point_generation = closest_contour['generation']\n",
    "    \n",
    "    return point_generation\n",
    "\n"
   ]
  },
  {
   "cell_type": "code",
   "execution_count": null,
   "metadata": {
    "collapsed": true
   },
   "outputs": [],
   "source": []
  },
  {
   "cell_type": "code",
   "execution_count": null,
   "metadata": {
    "collapsed": true
   },
   "outputs": [],
   "source": [
    "import grasping_points as gp\n",
    "\n",
    "gp.find_closest_contour(ball_object.centre)"
   ]
  },
  {
   "cell_type": "code",
   "execution_count": null,
   "metadata": {
    "collapsed": true
   },
   "outputs": [],
   "source": []
  },
  {
   "cell_type": "code",
   "execution_count": null,
   "metadata": {
    "collapsed": true
   },
   "outputs": [],
   "source": []
  },
  {
   "cell_type": "code",
   "execution_count": null,
   "metadata": {
    "collapsed": true
   },
   "outputs": [],
   "source": []
  },
  {
   "cell_type": "markdown",
   "metadata": {},
   "source": [
    "import pandas as pd\n",
    "object_df = create_object_df()\n",
    "create_csv(\"object2.csv\", object_df)\n",
    "\n",
    "for item in object_list.keys():\n",
    "    dic = prepare_object_dict(object_list[item],object_df)\n",
    "    object_df = object_df.append(dic, ignore_index=True)\n",
    "\n",
    "add_to_csv(\"object2.csv\", object_df)"
   ]
  },
  {
   "cell_type": "code",
   "execution_count": null,
   "metadata": {
    "collapsed": true
   },
   "outputs": [],
   "source": [
    "a=object_list['cup'].return_object_attributes()\n",
    "b,g,r,x = cv2.split(test_rgbx_img)\n",
    "test_rgb_img = cv2.merge([r,g,b])"
   ]
  },
  {
   "cell_type": "code",
   "execution_count": null,
   "metadata": {
    "collapsed": true
   },
   "outputs": [],
   "source": [
    "\n"
   ]
  },
  {
   "cell_type": "code",
   "execution_count": null,
   "metadata": {
    "collapsed": true
   },
   "outputs": [],
   "source": []
  },
  {
   "cell_type": "code",
   "execution_count": null,
   "metadata": {
    "collapsed": true
   },
   "outputs": [],
   "source": []
  }
 ],
 "metadata": {
  "kernelspec": {
   "display_name": "Python 2",
   "language": "python",
   "name": "python2"
  },
  "language_info": {
   "codemirror_mode": {
    "name": "ipython",
    "version": 2
   },
   "file_extension": ".py",
   "mimetype": "text/x-python",
   "name": "python",
   "nbconvert_exporter": "python",
   "pygments_lexer": "ipython2",
   "version": "2.7.13"
  }
 },
 "nbformat": 4,
 "nbformat_minor": 2
}
