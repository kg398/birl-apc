{
 "cells": [
  {
   "cell_type": "code",
   "execution_count": null,
   "metadata": {},
   "outputs": [],
   "source": [
    "import kinect_vision as kv\n",
    "from image_processing import run_calibration, run_calibration_rgb\n",
    "from matplotlib import pyplot as plt\n",
    "\n",
    "import os\n",
    "from kinect_vision import PATH_TO_KINECT_IMAGES_DIR\n",
    "\n",
    "\n",
    "\n",
    "\n",
    "\n",
    "\n",
    "\n",
    "#%matplotlib inline\n",
    "import numpy as np\n",
    "import cv2\n",
    "calibrate_check1 = raw_input(\"Prepared for Empty Capture?: \")\n",
    "if calibrate_check1 == \"yes\":\n",
    "    print \"empty\"\n",
    "    empt = kv.capture_frames()\n",
    "    plt.imshow(empt['ir'])\n",
    "    plt.show()\n",
    "    empt_all = kv.prepare_im_array(empt)\n",
    "    rgb, depth, ir = empt_all\n",
    "    np.savez(os.path.join(PATH_TO_KINECT_IMAGES_DIR, 'im_array_empty_FINAL'), rgb=rgb, depth=depth, ir=ir)\n",
    "\n",
    "calibrate_check2 = raw_input(\"Prepared for Calibrate Capture?: \")\n",
    "if calibrate_check2 == \"yes\":\n",
    "    cali = kv.capture_frames()\n",
    "    print \"cali\"\n",
    "    cali_all = kv.prepare_im_array(cali)\n",
    "    rgb, depth, ir = cali_all\n",
    "    \n",
    "    np.savez(os.path.join(PATH_TO_KINECT_IMAGES_DIR, 'im_array_cal_FINAL'), rgb=rgb, depth=depth, ir=ir)"
   ]
  },
  {
   "cell_type": "code",
   "execution_count": null,
   "metadata": {},
   "outputs": [],
   "source": [
    "import os\n",
    "from kinect_vision import PATH_TO_KINECT_IMAGES_DIR\n",
    "\n",
    "directory = PATH_TO_KINECT_IMAGES_DIR\n",
    "\n",
    "cali = kv.load_npz_as_array(\"im_array_cal_FINAL\", directory)\n",
    "empt = kv.load_npz_as_array(\"im_array_empty_FINAL\", directory)\n",
    "\n",
    "plt.imshow(empt['ir'])\n",
    "plt.show()"
   ]
  },
  {
   "cell_type": "code",
   "execution_count": 1,
   "metadata": {},
   "outputs": [
    {
     "name": "stdout",
     "output_type": "stream",
     "text": [
      "{'radius': [8, 16], 'thresh': [85, 100]}\n",
      "10\n",
      "All Calibration points found\n",
      "{'radius': [5, 8], 'thresh': [85, 220]}\n",
      "19\n",
      "All Calibration points found\n",
      "(176, 197)\n"
     ]
    }
   ],
   "source": [
    "import kinect_vision as kv\n",
    "from image_processing import run_calibration, run_calibration_rgb\n",
    "from matplotlib import pyplot as plt\n",
    "#%matplotlib inline\n",
    "import numpy as np\n",
    "import cv2\n",
    "#cali_num = str(1)\n",
    "\n",
    "#cali = kv.load_npz_as_array(\"im_array_cal\"+cali_num, directory)\n",
    "#empt = kv.load_npz_as_array(\"im_array_empty\"+cali_num, directory)\n",
    "\n",
    "#empt_all = kv.prepare_im_array(empt)\n",
    "#cali_all = kv.prepare_im_array(cali)\n",
    "\n",
    "#calibrate_check1 = raw_input(\"Prepared for Empty Capture?: \")\n",
    "#if calibrate_check1 == \"yes\":\n",
    "#    empt = kv.capture_frames()\n",
    "\n",
    "#calibrate_check2 = raw_input(\"Prepared for Calibrate Capture?: \")\n",
    "#if calibrate_check2 == \"yes\":\n",
    "#    cali = kv.capture_frames()\n",
    "\n",
    "import os\n",
    "from kinect_vision import PATH_TO_KINECT_IMAGES_DIR\n",
    "\n",
    "directory = PATH_TO_KINECT_IMAGES_DIR\n",
    "\n",
    "cali = kv.load_npz_as_array(\"im_array_cal_FINAL\", directory)\n",
    "empt = kv.load_npz_as_array(\"im_array_empty_FINAL\", directory)\n",
    "\n",
    "\n",
    "\n",
    "empt_all = kv.prepare_im_array(empt)\n",
    "cali_all = kv.prepare_im_array(cali)\n",
    "\n",
    "rgb, depth, ir = empt_all\n",
    "rgb, depth, ir = cali_all\n",
    "\n",
    "depth_cali = run_calibration(empt_all, cali_all, adjust=False)\n",
    "rgb_cali = run_calibration_rgb(empt_all, cali_all, depth_cali, adjust=False)\n",
    "\n",
    "\n",
    "\n"
   ]
  },
  {
   "cell_type": "code",
   "execution_count": 2,
   "metadata": {},
   "outputs": [
    {
     "name": "stdout",
     "output_type": "stream",
     "text": [
      "Ready?: yes\n",
      "[2]\n",
      "Depth Done\n",
      "(176, 197)\n",
      "[1, 2, 3, 4]\n",
      "[6, 7, 8, 9, 10]\n",
      "Making depth List ...\n",
      "RGB data not considered\n",
      "An exception of type AttributeError occurred. Arguments:\n",
      "(\"'TableObject' object has no attribute 'rgb_box'\",)\n",
      "2\n",
      "RGB data not considered\n",
      "An exception of type AttributeError occurred. Arguments:\n",
      "(\"'TableObject' object has no attribute 'rgb_box'\",)\n",
      "Making rgb object list...\n",
      "Depth data not implemented\n",
      "An exception of type AttributeError occurred. Arguments:\n",
      "(\"'TableObject' object has no attribute 'box'\",)\n",
      "item\n",
      "Depth data not implemented\n",
      "An exception of type AttributeError occurred. Arguments:\n",
      "(\"'TableObject' object has no attribute 'box'\",)\n",
      "item\n",
      "Length of depth and obj lists: 2 2\n",
      "Matched based on Contour Overlap\n",
      "Object is book\n",
      "103.549659729 148.088531494\n",
      "[[0.0, 0.0], [8.5, 197.0], [175.5, 191.5]]\n"
     ]
    },
    {
     "name": "stderr",
     "output_type": "stream",
     "text": [
      "/home/birl/miniconda3/envs/birl2/lib/python2.7/site-packages/numpy/core/fromnumeric.py:2909: RuntimeWarning: Mean of empty slice.\n",
      "  out=out, **kwargs)\n",
      "/home/birl/miniconda3/envs/birl2/lib/python2.7/site-packages/numpy/core/_methods.py:80: RuntimeWarning: invalid value encountered in double_scalars\n",
      "  ret = ret.dtype.type(ret / rcount)\n"
     ]
    }
   ],
   "source": [
    "from image_processing import run_image_processing_v2_depth, run_image_processing_v2_rgb\n",
    "from tableObject_class import match_rgb_with_depth_v2\n",
    "from vision_tools import normclean2cv2\n",
    "import vision_tools as vt\n",
    "\n",
    "\n",
    "capture_check = raw_input(\"Ready?: \")\n",
    "if capture_check == \"yes\":\n",
    "    test = kv.capture_frames()\n",
    "    test_all = kv.prepare_im_array(test)\n",
    "\n",
    "######## Process Test Image and Retrieve Depth and Contour Information from Depth and RGB Data ##########\n",
    "\n",
    "rgb, depth, ir = test_all\n",
    "\n",
    "\n",
    "normclean, sorted_family = run_image_processing_v2_depth(test_all, \n",
    "                                                         depth_cali, \n",
    "                                                         show=False)\n",
    "\n",
    "rgbnormclean, rgb_family, test_rgbx_img = run_image_processing_v2_rgb(test_all, \n",
    "                                                                      rgb_cali, \n",
    "                                                                      depth_cali, \n",
    "                                                                      show=False)\n",
    "\n",
    "######## Clean the images and convert them so that they are cv2 compatible ############\n",
    "\n",
    "depth_normclean = normclean2cv2(normclean)\n",
    "rgb_normclean = normclean2cv2(rgbnormclean)\n",
    "\n",
    "test_rgb_img = vt.convert2rgb(test_rgbx_img[0])\n",
    "\n",
    "####### Create List of Objects and match the rgb and depth data ##########\n",
    "object_list = match_rgb_with_depth_v2(sorted_family, rgb_family, depth_normclean, test_rgb_img)\n",
    "\n",
    "pick_obj = object_list['1']\n",
    "\n",
    "if pick_obj.height[0] == 0:\n",
    "    ipt = 1\n",
    "    print \"Object is cd\"\n",
    "else:\n",
    "    if pick_obj.circularness > 0.75:\n",
    "        ipt = 4\n",
    "        print \"Object is tape measure\"\n",
    "    else:\n",
    "        if pick_obj.rgb_aspect > 0.8:\n",
    "            ipt = 5\n",
    "            print \"Object is a box\"\n",
    "        else:\n",
    "            if pick_obj.rgb_aspect < 0.6:\n",
    "                ipt = 3\n",
    "                print \"Object is eraser\"\n",
    "            else:\n",
    "                ipt = 2\n",
    "                print \"Object is book\"\n",
    "                \n",
    "    print \"~~~~~~~~~~~~~~ OBJECT ATTRIBUTES ~~~~~~~~~~~~~~~\"\n",
    "    print \"Height:       \", pick_obj.height\n",
    "    print \"Circularness: \", pick_obj.circularness\n",
    "    print \"RGB Aspect:   \", pick_obj.rgb_aspect\n",
    "            \n",
    "\n",
    "\n",
    "x = pick_obj.rgb_centre[0]\n",
    "y = pick_obj.rgb_centre[1]\n",
    "print x,y\n",
    "\n",
    "circles = depth_cali[4]\n",
    "cali_circles_init = circles-circles[0][0]\n",
    "cali_circles=[]\n",
    "for circ in cali_circles_init[0]:\n",
    "    cali_circles.append([circ[0]/2, circ[1]/2])\n",
    "print cali_circles"
   ]
  },
  {
   "cell_type": "code",
   "execution_count": 26,
   "metadata": {},
   "outputs": [
    {
     "name": "stdout",
     "output_type": "stream",
     "text": [
      "[[-560.30673911]]\n"
     ]
    }
   ],
   "source": [
    "\n",
    "from vision_copy import pix3world_cal \n",
    "from vision_copy import pix3world \n",
    "\n",
    "p=[x,y]\n",
    "p1, inverse = pix3world_cal(cali_circles[0],cali_circles[1], cali_circles[2])\n",
    "X,Y = pix3world(p1, inverse, p)\n",
    "print X[0][0][0]"
   ]
  },
  {
   "cell_type": "code",
   "execution_count": null,
   "metadata": {
    "collapsed": true
   },
   "outputs": [],
   "source": [
    "rgb, depth, ir = cali_all"
   ]
  },
  {
   "cell_type": "code",
   "execution_count": null,
   "metadata": {},
   "outputs": [],
   "source": [
    "plt.imshow(empt['depth'])\n",
    "plt.show()"
   ]
  },
  {
   "cell_type": "code",
   "execution_count": null,
   "metadata": {
    "collapsed": true
   },
   "outputs": [],
   "source": [
    "empt_all = kv.prepare_im_array(empt)\n",
    "rgb, depth,ir = empt_all"
   ]
  },
  {
   "cell_type": "markdown",
   "metadata": {},
   "source": []
  }
 ],
 "metadata": {
  "kernelspec": {
   "display_name": "Python 2",
   "language": "python",
   "name": "python2"
  },
  "language_info": {
   "codemirror_mode": {
    "name": "ipython",
    "version": 2
   },
   "file_extension": ".py",
   "mimetype": "text/x-python",
   "name": "python",
   "nbconvert_exporter": "python",
   "pygments_lexer": "ipython2",
   "version": "2.7.13"
  }
 },
 "nbformat": 4,
 "nbformat_minor": 2
}
