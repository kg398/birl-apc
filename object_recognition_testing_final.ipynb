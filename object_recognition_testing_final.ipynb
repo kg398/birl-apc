{
 "cells": [
  {
   "cell_type": "markdown",
   "metadata": {},
   "source": [
    "# FINAL SCRIPT FOR OBJECT RECOGNITION TESTING"
   ]
  },
  {
   "cell_type": "markdown",
   "metadata": {},
   "source": [
    "## Calibration\n",
    "\n",
    "Change the following cell's type to Code to run Calibration"
   ]
  },
  {
   "cell_type": "markdown",
   "metadata": {},
   "source": [
    "import kinect_vision as kv\n",
    "from image_processing import run_calibration, run_calibration_rgb\n",
    "from matplotlib import pyplot as plt\n",
    "\n",
    "import os\n",
    "from kinect_vision import PATH_TO_KINECT_IMAGES_DIR\n",
    "#%matplotlib inline\n",
    "import numpy as np\n",
    "import cv2\n",
    "calibrate_check1 = raw_input(\"Prepared for Empty Capture?: \")\n",
    "if calibrate_check1 == \"yes\":\n",
    "    print \"empty\"\n",
    "    empt = kv.capture_frames()\n",
    "    plt.imshow(empt['ir'])\n",
    "    plt.show()\n",
    "    empt_all = kv.prepare_im_array(empt)\n",
    "    rgb, depth, ir = empt_all\n",
    "    np.savez(os.path.join(PATH_TO_KINECT_IMAGES_DIR, 'im_array_empty_FINAL'), rgb=rgb, depth=depth, ir=ir)\n",
    "\n",
    "calibrate_check2 = raw_input(\"Prepared for Calibrate Capture?: \")\n",
    "if calibrate_check2 == \"yes\":\n",
    "    cali = kv.capture_frames()\n",
    "    print \"cali\"\n",
    "    cali_all = kv.prepare_im_array(cali)\n",
    "    rgb, depth, ir = cali_all\n",
    "    \n",
    "    np.savez(os.path.join(PATH_TO_KINECT_IMAGES_DIR, 'im_array_cal_FINAL'), rgb=rgb, depth=depth, ir=ir)"
   ]
  },
  {
   "cell_type": "markdown",
   "metadata": {},
   "source": [
    "# Prepare Calibration data for image processing"
   ]
  },
  {
   "cell_type": "code",
   "execution_count": 1,
   "metadata": {},
   "outputs": [
    {
     "name": "stdout",
     "output_type": "stream",
     "text": [
      "{'radius': [8, 16], 'thresh': [85, 100]}\n",
      "21\n",
      "All Calibration points found\n",
      "{'radius': [5, 8], 'thresh': [85, 220]}\n",
      "22\n",
      "All Calibration points found\n",
      "(174, 198)\n"
     ]
    }
   ],
   "source": [
    "import copy\n",
    "\n",
    "import cv2\n",
    "from matplotlib import pyplot as plt\n",
    "from object_data_csv import create_object_df, prepare_object_dict, add_to_csv, create_csv\n",
    "\n",
    "##################################### Vision Imports ###########################################\n",
    "import numpy as np\n",
    "import os\n",
    "import vision_tools as vt\n",
    "from vision_tools import normclean2cv2\n",
    "import kinect_vision as kv\n",
    "from kinect_vision import PATH_TO_KINECT_IMAGES_DIR\n",
    "from image_processing import run_calibration, run_calibration_rgb\n",
    "from image_processing import run_image_processing_v2_depth, run_image_processing_v2_rgb\n",
    "\n",
    "from tableObject_class import TableObject, match_rgb_with_depth, match_rgb_with_depth_v2\n",
    "\n",
    "\n",
    "##################### Vision Initialise #####################################\n",
    "directory = PATH_TO_KINECT_IMAGES_DIR\n",
    "\n",
    "cali = kv.load_npz_as_array(\"im_array_cal_FINAL\", directory)\n",
    "empt = kv.load_npz_as_array(\"im_array_empty_FINAL\", directory)\n",
    "\n",
    "empt_all = kv.prepare_im_array(empt)\n",
    "cali_all = kv.prepare_im_array(cali)\n",
    "\n",
    "depth_cali = run_calibration(empt_all, cali_all, adjust=False)\n",
    "rgb_cali = run_calibration_rgb(empt_all, cali_all, depth_cali, adjust=False)\n"
   ]
  },
  {
   "cell_type": "markdown",
   "metadata": {},
   "source": [
    "# Take Picture"
   ]
  },
  {
   "cell_type": "code",
   "execution_count": 2,
   "metadata": {},
   "outputs": [
    {
     "name": "stdout",
     "output_type": "stream",
     "text": [
      "Ready?: yes\n",
      "[1]\n",
      "[3]\n",
      "[5]\n",
      "[7]\n",
      "Depth Done\n",
      "(174, 198)\n",
      "[1]\n",
      "[3]\n",
      "[5, 6]\n",
      "[8]\n",
      "[10, 11, 12, 13]\n",
      "Making depth List ...\n",
      "1\n",
      "RGB data not considered\n",
      "An exception of type AttributeError occurred. Arguments:\n",
      "(\"'TableObject' object has no attribute 'rgb_box'\",)\n",
      "3\n",
      "RGB data not considered\n",
      "An exception of type AttributeError occurred. Arguments:\n",
      "(\"'TableObject' object has no attribute 'rgb_box'\",)\n",
      "5\n",
      "RGB data not considered\n",
      "An exception of type AttributeError occurred. Arguments:\n",
      "(\"'TableObject' object has no attribute 'rgb_box'\",)\n",
      "7\n",
      "RGB data not considered\n",
      "An exception of type AttributeError occurred. Arguments:\n",
      "(\"'TableObject' object has no attribute 'rgb_box'\",)\n",
      "Making rgb object list...\n",
      "Depth data not implemented\n",
      "An exception of type AttributeError occurred. Arguments:\n",
      "(\"'TableObject' object has no attribute 'box'\",)\n",
      "item\n",
      "Depth data not implemented\n",
      "An exception of type AttributeError occurred. Arguments:\n",
      "(\"'TableObject' object has no attribute 'box'\",)\n",
      "item\n",
      "Depth data not implemented\n",
      "An exception of type AttributeError occurred. Arguments:\n",
      "(\"'TableObject' object has no attribute 'box'\",)\n",
      "item\n",
      "Depth data not implemented\n",
      "An exception of type AttributeError occurred. Arguments:\n",
      "(\"'TableObject' object has no attribute 'box'\",)\n",
      "item\n",
      "Depth data not implemented\n",
      "An exception of type AttributeError occurred. Arguments:\n",
      "(\"'TableObject' object has no attribute 'box'\",)\n",
      "item\n",
      "Length of depth and obj lists: 4 5\n",
      "5 : No depth profile found\n",
      "Matched based on Contour Overlap\n"
     ]
    },
    {
     "data": {
      "text/plain": [
       "True"
      ]
     },
     "execution_count": 2,
     "metadata": {},
     "output_type": "execute_result"
    }
   ],
   "source": [
    "while(1):\n",
    "    capture_check = raw_input(\"Ready?: \")\n",
    "    if capture_check == \"yes\":\n",
    "        test = kv.capture_frames()\n",
    "        test_all = kv.prepare_im_array(test)\n",
    "        break\n",
    "\n",
    "######## Process Test Image and Retrieve Depth and Contour Information from Depth and RGB Data ##########\n",
    "\n",
    "rgb, depth, ir = test_all\n",
    "\n",
    "\n",
    "normclean, sorted_family = run_image_processing_v2_depth(test_all, \n",
    "                                                         depth_cali, \n",
    "                                                         show=False)\n",
    "\n",
    "rgbnormclean, rgb_family, test_rgbx_img = run_image_processing_v2_rgb(test_all, \n",
    "                                                                      rgb_cali, \n",
    "                                                                      depth_cali, \n",
    "                                                                      show=False)\n",
    "\n",
    "######## Clean the images and convert them so that they are cv2 compatible ############\n",
    "\n",
    "depth_normclean = normclean2cv2(normclean)\n",
    "rgb_normclean = normclean2cv2(rgbnormclean)\n",
    "\n",
    "#\n",
    "test_rgb_img = vt.convert2rgb(test_rgbx_img)\n",
    "\n",
    "cv2.imwrite(\"test_rgb_img.jpg\", test_rgb_img)\n",
    "\n",
    "####### Create List of Objects and match the rgb and depth data ##########\n",
    "# Note that the label here is False which means that depth profiles will be overlaid with their \n",
    "# rgb counterparts objects will be labelled based on their spatial distances\n",
    "\n",
    "object_list = match_rgb_with_depth_v2(sorted_family, rgb_family, depth_normclean, test_rgb_img, label=False)\n",
    "\n",
    "\n",
    "\n",
    "#cv2.imwrite(\"test_rgb_img.jpg\", test_rgb_img)\n",
    "cv2.imwrite(\"depth_normclean.jpg\", depth_normclean)"
   ]
  },
  {
   "cell_type": "markdown",
   "metadata": {},
   "source": [
    "# Do Object Recognition"
   ]
  },
  {
   "cell_type": "code",
   "execution_count": 3,
   "metadata": {},
   "outputs": [
    {
     "name": "stdout",
     "output_type": "stream",
     "text": [
      "1\n",
      "2\n",
      "3\n",
      "4\n",
      "5\n"
     ]
    },
    {
     "data": {
      "text/html": [
       "<div>\n",
       "<style>\n",
       "    .dataframe thead tr:only-child th {\n",
       "        text-align: right;\n",
       "    }\n",
       "\n",
       "    .dataframe thead th {\n",
       "        text-align: left;\n",
       "    }\n",
       "\n",
       "    .dataframe tbody tr th {\n",
       "        vertical-align: top;\n",
       "    }\n",
       "</style>\n",
       "<table border=\"1\" class=\"dataframe\">\n",
       "  <thead>\n",
       "    <tr style=\"text-align: right;\">\n",
       "      <th></th>\n",
       "      <th>name</th>\n",
       "      <th>area</th>\n",
       "      <th>aspect</th>\n",
       "      <th>circularness</th>\n",
       "      <th>fill</th>\n",
       "      <th>rgb_area</th>\n",
       "      <th>rgb_aspect</th>\n",
       "      <th>rgb_circularness</th>\n",
       "      <th>rgb_fill</th>\n",
       "      <th>median_height</th>\n",
       "      <th>mean_height</th>\n",
       "      <th>R</th>\n",
       "      <th>G</th>\n",
       "      <th>B</th>\n",
       "      <th>centre_offset</th>\n",
       "    </tr>\n",
       "  </thead>\n",
       "  <tbody>\n",
       "    <tr>\n",
       "      <th>0</th>\n",
       "      <td>Unknown</td>\n",
       "      <td>621.0</td>\n",
       "      <td>0.931791</td>\n",
       "      <td>0.828761</td>\n",
       "      <td>0.784091</td>\n",
       "      <td>1594.0</td>\n",
       "      <td>0.604563</td>\n",
       "      <td>0.366540</td>\n",
       "      <td>0.544771</td>\n",
       "      <td>0.118307</td>\n",
       "      <td>0.123543</td>\n",
       "      <td>164.503853</td>\n",
       "      <td>142.541790</td>\n",
       "      <td>145.520451</td>\n",
       "      <td>18.865844</td>\n",
       "    </tr>\n",
       "    <tr>\n",
       "      <th>1</th>\n",
       "      <td>Unknown</td>\n",
       "      <td>1154.5</td>\n",
       "      <td>0.860465</td>\n",
       "      <td>0.602189</td>\n",
       "      <td>0.725644</td>\n",
       "      <td>1303.0</td>\n",
       "      <td>0.709613</td>\n",
       "      <td>0.411361</td>\n",
       "      <td>0.621068</td>\n",
       "      <td>0.139188</td>\n",
       "      <td>0.164614</td>\n",
       "      <td>201.771408</td>\n",
       "      <td>197.440493</td>\n",
       "      <td>204.213353</td>\n",
       "      <td>5.700877</td>\n",
       "    </tr>\n",
       "    <tr>\n",
       "      <th>2</th>\n",
       "      <td>Unknown</td>\n",
       "      <td>1831.0</td>\n",
       "      <td>0.921218</td>\n",
       "      <td>0.920923</td>\n",
       "      <td>0.802366</td>\n",
       "      <td>2306.5</td>\n",
       "      <td>1.000000</td>\n",
       "      <td>0.937196</td>\n",
       "      <td>0.821111</td>\n",
       "      <td>0.269969</td>\n",
       "      <td>0.239082</td>\n",
       "      <td>153.975692</td>\n",
       "      <td>144.150880</td>\n",
       "      <td>153.950545</td>\n",
       "      <td>1.899770</td>\n",
       "    </tr>\n",
       "    <tr>\n",
       "      <th>3</th>\n",
       "      <td>Unknown</td>\n",
       "      <td>519.0</td>\n",
       "      <td>0.961538</td>\n",
       "      <td>0.863793</td>\n",
       "      <td>0.798462</td>\n",
       "      <td>876.0</td>\n",
       "      <td>0.969697</td>\n",
       "      <td>0.914658</td>\n",
       "      <td>0.829545</td>\n",
       "      <td>0.177476</td>\n",
       "      <td>0.179804</td>\n",
       "      <td>184.482162</td>\n",
       "      <td>126.240000</td>\n",
       "      <td>193.544865</td>\n",
       "      <td>1.294043</td>\n",
       "    </tr>\n",
       "    <tr>\n",
       "      <th>4</th>\n",
       "      <td>Unknown</td>\n",
       "      <td>NaN</td>\n",
       "      <td>0.962963</td>\n",
       "      <td>0.916942</td>\n",
       "      <td>0.825142</td>\n",
       "      <td>2317.0</td>\n",
       "      <td>0.962963</td>\n",
       "      <td>0.916942</td>\n",
       "      <td>0.825142</td>\n",
       "      <td>0.000000</td>\n",
       "      <td>0.000000</td>\n",
       "      <td>191.778056</td>\n",
       "      <td>202.244889</td>\n",
       "      <td>199.183146</td>\n",
       "      <td>0.000000</td>\n",
       "    </tr>\n",
       "  </tbody>\n",
       "</table>\n",
       "</div>"
      ],
      "text/plain": [
       "      name    area    aspect  circularness      fill  rgb_area  rgb_aspect  \\\n",
       "0  Unknown   621.0  0.931791      0.828761  0.784091    1594.0    0.604563   \n",
       "1  Unknown  1154.5  0.860465      0.602189  0.725644    1303.0    0.709613   \n",
       "2  Unknown  1831.0  0.921218      0.920923  0.802366    2306.5    1.000000   \n",
       "3  Unknown   519.0  0.961538      0.863793  0.798462     876.0    0.969697   \n",
       "4  Unknown     NaN  0.962963      0.916942  0.825142    2317.0    0.962963   \n",
       "\n",
       "   rgb_circularness  rgb_fill  median_height  mean_height           R  \\\n",
       "0          0.366540  0.544771       0.118307     0.123543  164.503853   \n",
       "1          0.411361  0.621068       0.139188     0.164614  201.771408   \n",
       "2          0.937196  0.821111       0.269969     0.239082  153.975692   \n",
       "3          0.914658  0.829545       0.177476     0.179804  184.482162   \n",
       "4          0.916942  0.825142       0.000000     0.000000  191.778056   \n",
       "\n",
       "            G           B  centre_offset  \n",
       "0  142.541790  145.520451      18.865844  \n",
       "1  197.440493  204.213353       5.700877  \n",
       "2  144.150880  153.950545       1.899770  \n",
       "3  126.240000  193.544865       1.294043  \n",
       "4  202.244889  199.183146       0.000000  "
      ]
     },
     "execution_count": 3,
     "metadata": {},
     "output_type": "execute_result"
    }
   ],
   "source": [
    "import object_recognition_tools as ort\n",
    "\n",
    "excluded_val = ['centre', 'rgb_centre', 'number of children']\n",
    "extras = ['R','G','B', 'centre_offset']\n",
    "\n",
    "obj_features_mean, obj_features_std = ort.prepare_obj_features_param(obj_feat_csv = 'object_features.csv', \n",
    "                                                                 excluded_val = excluded_val, \n",
    "                                                                 extras=extras)\n",
    "\n",
    "rec_df = ort.prepare_pick_obj_features_param(object_list, excluded_val, extras)\n",
    "rec_df"
   ]
  },
  {
   "cell_type": "code",
   "execution_count": 4,
   "metadata": {},
   "outputs": [],
   "source": [
    "cost_list = ort.create_cost_list(obj_features_mean, obj_features_std, rec_df)\n",
    "#cost_list"
   ]
  },
  {
   "cell_type": "code",
   "execution_count": 12,
   "metadata": {},
   "outputs": [
    {
     "name": "stdout",
     "output_type": "stream",
     "text": [
      "{'1': <tableObject_class.TableObject object at 0x7f2b30abbd10>, '3': <tableObject_class.TableObject object at 0x7f2b30abbd50>, '2': <tableObject_class.TableObject object at 0x7f2b3f3b9e90>, '5': <tableObject_class.TableObject object at 0x7f2b30abbdd0>, '4': <tableObject_class.TableObject object at 0x7f2b30abbd90>}\n",
      "Index([u'measure', u'mug'], dtype='object', name=u'name')\n",
      "NAME:  measure\n",
      "item\n"
     ]
    },
    {
     "data": {
      "image/png": "[encoded data removed]",
      "text/plain": [
       "<matplotlib.figure.Figure at 0x7f2b30c61510>"
      ]
     },
     "metadata": {},
     "output_type": "display_data"
    },
    {
     "name": "stdout",
     "output_type": "stream",
     "text": [
      "Index([u'mug', u'book'], dtype='object', name=u'name')\n",
      "NAME:  mug\n",
      "item\n"
     ]
    },
    {
     "data": {
      "image/png": "[encoded data removed]",
      "text/plain": [
       "<matplotlib.figure.Figure at 0x7f2b30ba4f90>"
      ]
     },
     "metadata": {},
     "output_type": "display_data"
    },
    {
     "name": "stdout",
     "output_type": "stream",
     "text": [
      "Index([u'tape', u'mug'], dtype='object', name=u'name')\n",
      "NAME:  tape\n",
      "item\n"
     ]
    },
    {
     "data": {
      "image/png": "[encoded data removed]",
      "text/plain": [
       "<matplotlib.figure.Figure at 0x7f2b30c3d350>"
      ]
     },
     "metadata": {},
     "output_type": "display_data"
    },
    {
     "name": "stdout",
     "output_type": "stream",
     "text": [
      "Index([u'ball', u'mug'], dtype='object', name=u'name')\n",
      "NAME:  ball\n",
      "item\n"
     ]
    },
    {
     "data": {
      "image/png": "[encoded data removed]",
      "text/plain": [
       "<matplotlib.figure.Figure at 0x7f2b3e4c2dd0>"
      ]
     },
     "metadata": {},
     "output_type": "display_data"
    },
    {
     "name": "stdout",
     "output_type": "stream",
     "text": [
      "Index([u'cd', u'mug'], dtype='object', name=u'name')\n",
      "NAME:  cd\n",
      "item\n"
     ]
    },
    {
     "data": {
      "image/png": "[encoded data removed]",
      "text/plain": [
       "<matplotlib.figure.Figure at 0x7f2b3089cc50>"
      ]
     },
     "metadata": {},
     "output_type": "display_data"
    }
   ],
   "source": [
    "def label_object_list(original_obj_list, cost_list, image, show=False):\n",
    "    object_list = copy.copy(original_obj_list)\n",
    "    print object_list.keys()\n",
    "    for i,item in enumerate(sorted(object_list.keys())):\n",
    "        print cost_list[i].keys()[0:2]\n",
    "        print \"NAME: \", cost_list[i].keys()[0]\n",
    "        object_list[item].label_object(image, name=cost_list[i].keys()[0], show=show)\n",
    "    return object_list\n",
    "\n",
    "new4=ort.label_object_list(object_list, cost_list, test_rgb_img, show=True)\n",
    "    "
   ]
  },
  {
   "cell_type": "code",
   "execution_count": 9,
   "metadata": {},
   "outputs": [],
   "source": [
    "#new3_object_list = ort.label_object_list(object_list, cost_list, test_rgb_img, show=True)"
   ]
  },
  {
   "cell_type": "code",
   "execution_count": 11,
   "metadata": {},
   "outputs": [
    {
     "data": {
      "text/plain": [
       "'measure'"
      ]
     },
     "execution_count": 11,
     "metadata": {},
     "output_type": "execute_result"
    }
   ],
   "source": [
    "new4['1'].name"
   ]
  },
  {
   "cell_type": "code",
   "execution_count": null,
   "metadata": {
    "collapsed": true
   },
   "outputs": [],
   "source": []
  }
 ],
 "metadata": {
  "kernelspec": {
   "display_name": "Python 2",
   "language": "python",
   "name": "python2"
  },
  "language_info": {
   "codemirror_mode": {
    "name": "ipython",
    "version": 2
   },
   "file_extension": ".py",
   "mimetype": "text/x-python",
   "name": "python",
   "nbconvert_exporter": "python",
   "pygments_lexer": "ipython2",
   "version": "2.7.13"
  }
 },
 "nbformat": 4,
 "nbformat_minor": 2
}
